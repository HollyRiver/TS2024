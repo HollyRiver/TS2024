{
 "cells": [
  {
   "cell_type": "markdown",
   "id": "2f23f00e-2bdc-4339-b3c9-b4935d6019f5",
   "metadata": {},
   "source": [
    "### library imports"
   ]
  },
  {
   "cell_type": "code",
   "execution_count": 434,
   "id": "ff802f57-bc1f-4af5-8fc5-aa796ec9609f",
   "metadata": {},
   "outputs": [
    {
     "name": "stderr",
     "output_type": "stream",
     "text": [
      "Loading required package: zoo\n",
      "\n",
      "\n",
      "Attaching package: ‘zoo’\n",
      "\n",
      "\n",
      "The following objects are masked from ‘package:base’:\n",
      "\n",
      "    as.Date, as.Date.numeric\n",
      "\n",
      "\n"
     ]
    }
   ],
   "source": [
    "library(ggplot2)\n",
    "library(lubridate)\n",
    "library(forecast)\n",
    "library(lmtest)\n",
    "setwd(\"~/TS2024/data/Time Series Data/\")\n",
    "options(repr.plot.width = 16, repr.plot.height = 9)"
   ]
  },
  {
   "cell_type": "markdown",
   "id": "8ed6b169-403a-4871-9a21-bf4d4be28392",
   "metadata": {},
   "source": [
    "### 1번 문제"
   ]
  },
  {
   "cell_type": "code",
   "execution_count": 204,
   "id": "2ac1051d-6942-4cb8-8f26-6e23e8ca12c3",
   "metadata": {},
   "outputs": [
    {
     "data": {
      "text/html": [
       "483"
      ],
      "text/latex": [
       "483"
      ],
      "text/markdown": [
       "483"
      ],
      "text/plain": [
       "[1] 483"
      ]
     },
     "metadata": {},
     "output_type": "display_data"
    },
    {
     "data": {
      "text/html": [
       "48.3"
      ],
      "text/latex": [
       "48.3"
      ],
      "text/markdown": [
       "48.3"
      ],
      "text/plain": [
       "[1] 48.3"
      ]
     },
     "metadata": {},
     "output_type": "display_data"
    },
    {
     "data": {
      "text/html": [
       "14.4555555555556"
      ],
      "text/latex": [
       "14.4555555555556"
      ],
      "text/markdown": [
       "14.4555555555556"
      ],
      "text/plain": [
       "[1] 14.45556"
      ]
     },
     "metadata": {},
     "output_type": "display_data"
    },
    {
     "data": {
      "text/html": [
       "-2.2621571627982"
      ],
      "text/latex": [
       "-2.2621571627982"
      ],
      "text/markdown": [
       "-2.2621571627982"
      ],
      "text/plain": [
       "[1] -2.262157"
      ]
     },
     "metadata": {},
     "output_type": "display_data"
    },
    {
     "data": {
      "text/html": [
       "-9.02062253474227"
      ],
      "text/latex": [
       "-9.02062253474227"
      ],
      "text/markdown": [
       "-9.02062253474227"
      ],
      "text/plain": [
       "[1] -9.020623"
      ]
     },
     "metadata": {},
     "output_type": "display_data"
    }
   ],
   "source": [
    "z = c(52, 46, 46, 52, 50, 50, 48, 45, 41, 53) ## data\n",
    "t = 1:10 ## time\n",
    "\n",
    "sum(z)\n",
    "\n",
    "## (1), (2)\n",
    "mean(z) ## 상수평균모형 적합\n",
    "\n",
    "## (3)\n",
    "sum((z - 48.3)^2)/9\n",
    "qt(0.025, 9)\n",
    "qt(0.025, 9)*sqrt(1.1*sum((z - 48.3)^2)/9) ## Lower bound"
   ]
  },
  {
   "cell_type": "markdown",
   "id": "f28dcb33-f269-45a3-b791-7f6cfb4e3510",
   "metadata": {},
   "source": [
    "### 2번 문제"
   ]
  },
  {
   "cell_type": "code",
   "execution_count": 210,
   "id": "a775e1a3-99b2-4a94-9aab-de725abf2a14",
   "metadata": {},
   "outputs": [
    {
     "data": {
      "text/html": [
       "4753"
      ],
      "text/latex": [
       "4753"
      ],
      "text/markdown": [
       "4753"
      ],
      "text/plain": [
       "[1] 4753"
      ]
     },
     "metadata": {},
     "output_type": "display_data"
    },
    {
     "data": {
      "text/html": [
       "38692"
      ],
      "text/latex": [
       "38692"
      ],
      "text/markdown": [
       "38692"
      ],
      "text/plain": [
       "[1] 38692"
      ]
     },
     "metadata": {},
     "output_type": "display_data"
    },
    {
     "name": "stdout",
     "output_type": "stream",
     "text": [
      "[1] \"2.3857142857143 297.781066666667\"\n"
     ]
    },
    {
     "data": {
      "text/html": [
       "<style>\n",
       ".list-inline {list-style: none; margin:0; padding: 0}\n",
       ".list-inline>li {display: inline-block}\n",
       ".list-inline>li:not(:last-child)::after {content: \"\\00b7\"; padding: 0 .5ex}\n",
       "</style>\n",
       "<ol class=list-inline><li>335.952</li><li>338.338</li><li>340.724</li><li>343.11</li><li>345.495</li></ol>\n"
      ],
      "text/latex": [
       "\\begin{enumerate*}\n",
       "\\item 335.952\n",
       "\\item 338.338\n",
       "\\item 340.724\n",
       "\\item 343.11\n",
       "\\item 345.495\n",
       "\\end{enumerate*}\n"
      ],
      "text/markdown": [
       "1. 335.952\n",
       "2. 338.338\n",
       "3. 340.724\n",
       "4. 343.11\n",
       "5. 345.495\n",
       "\n",
       "\n"
      ],
      "text/plain": [
       "[1] 335.952 338.338 340.724 343.110 345.495"
      ]
     },
     "metadata": {},
     "output_type": "display_data"
    }
   ],
   "source": [
    "z = c(303, 298, 303, 314, 303, 314, 310, 324, 317, 327, 323, 324, 331, 330, 332) ## data\n",
    "t = 1:15 ## time\n",
    "\n",
    "## (3)\n",
    "sum(z)\n",
    "sum(t*z)\n",
    "\n",
    "beta1 = 12/3360*38692 - 6/210*4753 ## beta1\n",
    "beta0 = 4753/15 - 2.3857*8 ## beta0\n",
    "print(paste(beta1, beta0))\n",
    "\n",
    "## (4)\n",
    "round(beta0+beta1*(16:20), 3)"
   ]
  },
  {
   "cell_type": "markdown",
   "id": "b23b599c-f7ee-44ed-9663-602ce5745025",
   "metadata": {},
   "source": [
    "### 3번 문제"
   ]
  },
  {
   "cell_type": "code",
   "execution_count": 211,
   "id": "f5790f90-9d4f-4ea0-b0e6-530431470005",
   "metadata": {},
   "outputs": [
    {
     "name": "stdout",
     "output_type": "stream",
     "text": [
      "[1] \"99.975152010818 1.05243436553494\"\n",
      "[1] \"499.921802226874 1.0358204978152\"\n",
      "[1] \"100.404727757202 76.5005500400452\"\n",
      "[1] \"99.0883109829521 3068.8621392783\"\n"
     ]
    }
   ],
   "source": [
    "## data generating\n",
    "z1 = 100 + rnorm(100, 0, 1) ## (1)\n",
    "z2 = 500 + rnorm(100, 0, 1) ## (2)\n",
    "z3 = 100 + rnorm(100, 0, 10) ## (3)\n",
    "z4 = 100 + seq(1:100)*rnorm(100, 0, 1) ## (4)\n",
    "\n",
    "## (1) 100 + eps\n",
    "m1 = mean(z1)\n",
    "s1 = sd(z1)\n",
    "print(paste(m1, s1^2))\n",
    "\n",
    "## (2) 500 + eps\n",
    "m2 = mean(z2)\n",
    "s2 = sd(z2)\n",
    "print(paste(m2, s2^2))\n",
    "\n",
    "## (3) 100 + eps ~ N(0, 100)\n",
    "m3 = mean(z3)\n",
    "s3 = sd(z3)\n",
    "print(paste(m3, s3^2))\n",
    "\n",
    "## (4) 100 + t*eps\n",
    "m4 = mean(z4)\n",
    "s4 = sd(z4)\n",
    "print(paste(m4, s4^2))"
   ]
  },
  {
   "cell_type": "markdown",
   "id": "ea0a7c95-ed3d-4068-a6b1-d66ed502ad2a",
   "metadata": {},
   "source": [
    "`-` plotting"
   ]
  },
  {
   "cell_type": "code",
   "execution_count": null,
   "id": "b68b5e3c-a018-4e1f-ae7d-206ad43e6f8c",
   "metadata": {},
   "outputs": [],
   "source": [
    "plot(1:100, z1, type = 'l', col = 'black', lwd = 2, ylim = c(-50, 500),\n",
    "     xlab = 'time', ylab = 'value', main = \"모의 시계열자료 시계열 그림\", cex.main = 2)\n",
    "lines(1:100, z2, col = 'red', lwd = 2)\n",
    "lines(1:100, z3, col = 'darkorange', lwd = 2)\n",
    "lines(1:100, z4, col = 'darkcyan', lwd = 2)\n",
    "legend(c(expression('(1)'~100~\"+\"~e[t]~\",\"~e[t]~\"~\"~N(0, 1)),\n",
    "       expression('(2)'~500~\"+\"~e[t]~\",\"~e[t]~\"~\"~N(0, 1)),\n",
    "       expression('(3)'~100~\"+\"~e[t]~\",\"~e[t]~\"~\"~N(0, 100)),\n",
    "       expression('(4)'~100~\"+\"~te[t]~\",\"~e[t]~\"~\"~N(0, 1))),\n",
    "       lwd = 1, col = c(\"black\", \"red\", \"darkorange\", \"darkcyan\"),\n",
    "       x = c(-5, 24), y = c(-80, 50))"
   ]
  },
  {
   "cell_type": "markdown",
   "id": "992b6b13-2d7a-469d-9444-31a54c489f7a",
   "metadata": {},
   "source": [
    "### 4번 문제"
   ]
  },
  {
   "cell_type": "markdown",
   "id": "48795c5d-cf40-4230-9a15-4035cf51421e",
   "metadata": {},
   "source": [
    "`-` **(1) 코드**"
   ]
  },
  {
   "cell_type": "code",
   "execution_count": null,
   "id": "317699e7-5fbd-4f5e-8748-73d5e2142a7b",
   "metadata": {},
   "outputs": [],
   "source": [
    "## data generating\n",
    "Z1 = 100 + rnorm(100, 0, 1)\n",
    "\n",
    "## plotting\n",
    "plot(Z1, type = 'l', col = 'darkorange', lwd = 2, ylim = c(97, 103),\n",
    "     main = expression(Z[t]~\"=\"~100~\"+\"~epsilon[t]~\"의 시계열 그림\"), cex.main = 2,\n",
    "     xlab = 'time', ylab = \"\")\n",
    "abline(h = 100, lwd = 2, col = \"steelblue\")\n",
    "legend(\"topleft\", c(\"Simulation\", \"Expectation\"), lwd = 2, col = c(\"darkorange\", \"steelblue\"))"
   ]
  },
  {
   "cell_type": "markdown",
   "id": "ea7aedaa-afc7-4980-a663-4703db3e76a8",
   "metadata": {},
   "source": [
    "`-` **(2) 코드**"
   ]
  },
  {
   "cell_type": "code",
   "execution_count": null,
   "id": "60cd5048-531b-436e-8b1e-abb74665b2b0",
   "metadata": {},
   "outputs": [],
   "source": [
    "## data generating\n",
    "Z2 = 100 + 1:100 + rnorm(100, 0, 1)\n",
    "Ex = 100 + 1:100\n",
    "\n",
    "## plotting\n",
    "plot(Z2, type = 'l', col = 'darkorange', lwd = 2,\n",
    "     main = expression(Z[t]~\"=\"~100+t+epsilon[t]~\"의 시계열 그림\"), cex.main = 2,\n",
    "     xlab = 'time', ylab = \"\")\n",
    "lines(Ex, lwd = 2, col = \"steelblue\")\n",
    "legend(\"topleft\", c(\"Simulation\", \"Expectation\"), lwd = 2, col = c(\"darkorange\", \"steelblue\"))"
   ]
  },
  {
   "cell_type": "markdown",
   "id": "979114a4-7d40-4f84-87b1-c66498aca9c8",
   "metadata": {},
   "source": [
    "`-` **(3) 코드**"
   ]
  },
  {
   "cell_type": "code",
   "execution_count": null,
   "id": "43a379f0-bbe6-4d28-9f58-9f5ced18cb18",
   "metadata": {},
   "outputs": [],
   "source": [
    "## data generating\n",
    "Z3 = 100 + 1:100*0.3 + sin(2*pi*(1:100)/12) + cos(1*pi*(1:100)/12) + rnorm(100, 0, 1)\n",
    "Ex = 100 + 1:100*0.3 + sin(2*pi*(1:100)/12) + cos(1*pi*(1:100)/12)\n",
    "\n",
    "## plotting\n",
    "plot(Z3, type = 'l', col = 'darkorange', lwd = 2,\n",
    "     main = expression(Z[t]~\"=\"~100+0.3*t+sin(2*pi*t/12)+cos(2*pi*t/12)+epsilon[t]~\"의 시계열 그림\"), cex.main = 2,\n",
    "     xlab = 'time', ylab = \"\")\n",
    "lines(Ex, lwd = 2, col = \"steelblue\")\n",
    "legend(\"topleft\", c(\"Simulation\", \"Expectation\"), lwd = 2, col = c(\"darkorange\", \"steelblue\"))"
   ]
  },
  {
   "cell_type": "markdown",
   "id": "bb72c721-61e1-4a42-98bd-315435074eb1",
   "metadata": {},
   "source": [
    "### 5번 문제"
   ]
  },
  {
   "cell_type": "markdown",
   "id": "f78064d0-a5a4-4801-ae30-48432a4ffb68",
   "metadata": {},
   "source": [
    "`-` **(1) 코드**"
   ]
  },
  {
   "cell_type": "code",
   "execution_count": 179,
   "id": "2679c333-b52e-48e6-98d6-d40290c04469",
   "metadata": {},
   "outputs": [
    {
     "data": {
      "text/html": [
       "86"
      ],
      "text/latex": [
       "86"
      ],
      "text/markdown": [
       "86"
      ],
      "text/plain": [
       "[1] 86"
      ]
     },
     "metadata": {},
     "output_type": "display_data"
    }
   ],
   "source": [
    "## data\n",
    "z = scan(\"export.txt\")\n",
    "length(z)\n",
    "\n",
    "## plotting\n",
    "plot(1:86, z, type = 'l', xlab = 'time', col = \"steelblue\", lwd = 2,\n",
    "     ylab = \"월별수출액(단위:억$)\", main = \"월별수출액 시계열 그림\", cex.main = 2)"
   ]
  },
  {
   "cell_type": "markdown",
   "id": "714b5071-54b8-4b37-a6cd-bf732607562c",
   "metadata": {},
   "source": [
    "`-` **(3) 코드**"
   ]
  },
  {
   "cell_type": "code",
   "execution_count": null,
   "id": "a935213c-6c3a-4129-be26-5b6e897d7948",
   "metadata": {},
   "outputs": [],
   "source": [
    "## data\n",
    "export = ts(z, frequency = 12)\n",
    "export\n",
    "\n",
    "## feature engineering\n",
    "df_export = data.frame(\n",
    "    trend = 1:86, ## time\n",
    "    month = as.factor(cycle(export)), ## month cycle\n",
    "    export = z ## Z_t\n",
    ")\n",
    "\n",
    "df_export |> head()\n",
    "\n",
    "## fitting\n",
    "model_export = lm(export~0+trend+month, df_export)\n",
    "summary(model_export)"
   ]
  },
  {
   "cell_type": "markdown",
   "id": "83c41592-1629-4609-9c93-fab98aba0d90",
   "metadata": {},
   "source": [
    "`-` **(5) 코드**"
   ]
  },
  {
   "cell_type": "code",
   "execution_count": null,
   "id": "f9d782b9-d4c9-4c03-8639-d4463cc90ac0",
   "metadata": {},
   "outputs": [],
   "source": [
    "new_data = data.frame(\n",
    "    trend = 87:98,\n",
    "    month = as.factor(c(3:12, 1:2))\n",
    ")\n",
    "\n",
    "round(predict(model_export, newdata = new_data), 3)"
   ]
  },
  {
   "cell_type": "markdown",
   "id": "2b84be3c-a93b-43c3-9b27-bb8e93812708",
   "metadata": {},
   "source": [
    "`-` **(6) 코드**"
   ]
  },
  {
   "cell_type": "code",
   "execution_count": null,
   "id": "71dbc994-3dd8-48c6-81d9-7df658f022c5",
   "metadata": {},
   "outputs": [],
   "source": [
    "interval = data.frame(predict(model_export, newdata = new_data, interval = \"confidence\"), trend = 87:98)\n",
    "round(interval, 3)"
   ]
  },
  {
   "cell_type": "markdown",
   "id": "730bfd26-bf87-439e-b0b8-cfa6d26c654c",
   "metadata": {},
   "source": [
    "`-` **(7) 예측구간 시계열 그림**"
   ]
  },
  {
   "cell_type": "code",
   "execution_count": null,
   "id": "5639c40d-5161-47e9-a746-ae4aa9f55b43",
   "metadata": {},
   "outputs": [],
   "source": [
    "ggplot(df_export) +\n",
    "    ggtitle(\"월별 수출액 예측값 및 예측구간\") +\n",
    "    geom_line(aes(x = trend, y = export), col = \"darkorange\") +\n",
    "    geom_line(data = interval, aes(x = trend, y = fit), col = \"red\") +\n",
    "    geom_line(data = interval, aes(x = trend, y = lwr), col = \"steelblue\", alpha = 0.5) +\n",
    "    geom_line(data = interval, aes(x = trend, y = upr), col = \"steelblue\", alpha = 0.5) +\n",
    "    geom_ribbon(data = interval, aes(x = trend, ymax=upr, ymin=lwr), fill = \"steelblue\", alpha = 0.5) +\n",
    "    theme_bw() +\n",
    "    theme(axis.title = element_blank(), axis.text = element_text(size=20),\n",
    "         plot.title = element_text(hjust = 0.5, size = 25))"
   ]
  },
  {
   "cell_type": "markdown",
   "id": "a18b0a0a-adc0-49be-9f57-33bea3561ab5",
   "metadata": {},
   "source": [
    "### 6번 문제"
   ]
  },
  {
   "cell_type": "code",
   "execution_count": 360,
   "id": "8f7ddee8-d249-475a-b995-46a60bbc55e2",
   "metadata": {},
   "outputs": [
    {
     "name": "stdout",
     "output_type": "stream",
     "text": [
      "[1] \"가중치 : 0.6, t = 1 11.58\"\n",
      "[1] \"가중치 : 0.6, t = 2 11.052\"\n",
      "[1] \"가중치 : 0.6, t = 3 12.4008\"\n",
      "[1] \"가중치 : 0.6, t = 4 13.42032\"\n",
      "[1] \"가중치 : 0.6, t = 5 16.048128\"\n",
      "[1] \"가중치 : 0.2, t = 1 13.86\"\n",
      "[1] \"가중치 : 0.2, t = 2 13.228\"\n",
      "[1] \"가중치 : 0.2, t = 3 13.2424\"\n",
      "[1] \"가중치 : 0.2, t = 4 13.41392\"\n",
      "[1] \"가중치 : 0.2, t = 5 14.291136\"\n"
     ]
    }
   ],
   "source": [
    "## data\n",
    "z = scan(\"mindex.txt\")\n",
    "\n",
    "## 단순지수평활함수\n",
    "SMA_func = function(w, t) {\n",
    "    output = 0\n",
    "\n",
    "    for (i in 0:(t-1)) {\n",
    "        output = output + w*(1-w)^i*z[t-i]\n",
    "    }\n",
    "\n",
    "    output = output + (1-w)^t*S0\n",
    "\n",
    "    return(output)\n",
    "}\n",
    "\n",
    "S0 = 15 ## 초기 평활값\n",
    "\n",
    "## 가중치 : 0.6\n",
    "for (i in 1:5) {\n",
    "    print(paste(\"가중치 : 0.6, t =\",i , SMA_func(0.6, i)))\n",
    "}\n",
    "\n",
    "## 가중치 : 0.2\n",
    "for (i in 1:5) {\n",
    "    print(paste(\"가중치 : 0.2, t =\",i , SMA_func(0.2, i)))\n",
    "}"
   ]
  },
  {
   "cell_type": "markdown",
   "id": "27c9d348-98f9-457f-9ae5-0323296008a6",
   "metadata": {},
   "source": [
    "### 7번 문제"
   ]
  },
  {
   "cell_type": "markdown",
   "id": "11205d2a-7d40-44e1-be2c-e317b659768d",
   "metadata": {},
   "source": [
    "`-` **(1) `female.txt`**"
   ]
  },
  {
   "cell_type": "code",
   "execution_count": null,
   "id": "3240ffd1-5192-4721-90a6-03cac14d7775",
   "metadata": {},
   "outputs": [],
   "source": [
    "## data\n",
    "female = scan(\"female.txt\")\n",
    "\n",
    "## 시계열 그림\n",
    "plot.ts(female, col = 'darkorange', lwd = 2, xlab = \"\", ylab = \"근로자 수(명)\",\n",
    "        main = \"월별 전문기술행정직 종사 여성근로자 수 시계열 그림\", cex.main = 2)\n",
    "abline(v = seq(1, 120, by = 12), lty = 2) ## 계절성 판단\n",
    "legend(\"topleft\", c(\"근로자 수(명)\", \"계절성분 간격 (12 month)\"),\n",
    "       lty = c(1, 2), col = c(\"darkorange\", \"black\"), lwd = c(2, 1))\n",
    "\n",
    "## 모델 구성\n",
    "fit_holt = HoltWinters(female, gamma = FALSE)\n",
    "fit_fem = holt(female, alpha = fit_holt$alpha, beta = fit_holt$beta, initial = 'simple', h = 12)\n",
    "fit_fem$model\n",
    "\n",
    "## 적합된 모형 예측 그래프 산출\n",
    "plot(fit_fem, main = \"여성 근로자 수 이중지수평활 예측 그래프\", cex.main = 2, lwd = 2)\n",
    "lines(fitted(fit_fem), lty = 2, col = \"darkorange\", lwd = 2)\n",
    "legend(\"topleft\", c(\"real\", \"fitted\", \"forecasting\"),\n",
    "       lty = c(1, 2, 1), lwd = 2, col = c(\"black\", \"darkorange\", \"steelblue\"))\n",
    "\n",
    "## 잔차도 산출 및 잔차 검정\n",
    "plot(resid(fit_fem), type = 'o', pch = 16, xlab = \"t\", ylab = \"residual\", main = \"1-시차 예측오차에 대한 시계열 그림\", cex.main = 2)\n",
    "abline(h = 0, lty = 2)\n",
    "dwtest(lm(resid(fit_fem)~1), alternative = \"two.sided\")"
   ]
  },
  {
   "cell_type": "markdown",
   "id": "2b92231a-67ed-4c54-a5be-cfc2b30fdb50",
   "metadata": {},
   "source": [
    "`-` **(2) `export.txt`**"
   ]
  },
  {
   "cell_type": "code",
   "execution_count": 455,
   "id": "0d208570-bca3-4616-bb41-f1fc0615dce2",
   "metadata": {},
   "outputs": [],
   "source": [
    "z = scan(\"export.txt\")\n",
    "export = ts(z, frequency = 12)\n",
    "\n",
    "## 시계열 그림\n",
    "plot(1:86, export, type = 'l', col = 'darkorange', lwd = 2, xlab = \"\", ylab = \"수출액(억$)\",\n",
    "        main = \"월별 수출액 시계열 그림\", cex.main = 2)\n",
    "abline(v = seq(1, 90, by = 12), lty = 2) ## 계절성 판단\n",
    "legend(\"topleft\", c(\"수출액(억$)\", \"계절성분 간격 (12 month)\"),\n",
    "       lty = c(1, 2), col = c(\"darkorange\", \"black\"), lwd = c(2, 1))\n",
    "\n",
    "## 모델 구성\n",
    "fit_holt = HoltWinters(export, seasonal = \"additive\")\n",
    "fit_exp = hw(export, alpha = fit_holt$alpha, beta = fit_holt$beta, gamma = fit_holt$gamma, initial = 'simple', h = 12)\n",
    "fit_exp$model\n",
    "\n",
    "## 적합된 모형 예측 그래프 산출\n",
    "plot(fit_exp, main = \"여성 근로자 수 이중지수평활 예측 그래프\", cex.main = 2, lwd = 2)\n",
    "lines(fitted(fit_exp), lty = 2, col = \"darkorange\", lwd = 2)\n",
    "legend(\"topleft\", c(\"real\", \"fitted\", \"forecasting\"),\n",
    "       lty = c(1, 2, 1), lwd = 2, col = c(\"black\", \"darkorange\", \"steelblue\"))\n",
    "\n",
    "## 잔차도 산출 및 잔차 검정\n",
    "plot(1:86, resid(fit_exp), type = 'o', pch = 16, xlab = \"t\", ylab = \"residual\", main = \"1-시차 예측오차에 대한 시계열 그림\", cex.main = 2)\n",
    "abline(h = 0, lty = 2)\n",
    "dwtest(lm(resid(fit_exp)~1), alternative = \"two.sided\")"
   ]
  },
  {
   "cell_type": "markdown",
   "id": "d2d5f8ca-efc4-404f-8461-933d4f9fbbae",
   "metadata": {},
   "source": [
    "`-` 추세모형과의 비교"
   ]
  },
  {
   "cell_type": "code",
   "execution_count": 513,
   "id": "835825fc-6ed8-4d17-87d7-eda1c5dcb9f7",
   "metadata": {},
   "outputs": [
    {
     "data": {
      "text/html": [
       "1135.42182593918"
      ],
      "text/latex": [
       "1135.42182593918"
      ],
      "text/markdown": [
       "1135.42182593918"
      ],
      "text/plain": [
       "[1] 1135.422"
      ]
     },
     "metadata": {},
     "output_type": "display_data"
    },
    {
     "data": {
      "text/html": [
       "1371.05731181319"
      ],
      "text/latex": [
       "1371.05731181319"
      ],
      "text/markdown": [
       "1371.05731181319"
      ],
      "text/plain": [
       "[1] 1371.057"
      ]
     },
     "metadata": {},
     "output_type": "display_data"
    }
   ],
   "source": [
    "## SSE : 계절추세모형\n",
    "fit_holt$SSE\n",
    "sum(resid(model_export)^2)"
   ]
  },
  {
   "cell_type": "code",
   "execution_count": 510,
   "id": "d60539f2-1d85-46dd-84a5-72250c231b80",
   "metadata": {},
   "outputs": [
    {
     "data": {
      "text/html": [
       "86"
      ],
      "text/latex": [
       "86"
      ],
      "text/markdown": [
       "86"
      ],
      "text/plain": [
       "[1] 86"
      ]
     },
     "metadata": {},
     "output_type": "display_data"
    }
   ],
   "source": [
    "length(export)"
   ]
  },
  {
   "cell_type": "code",
   "execution_count": 508,
   "id": "10882509-5e3c-495d-8a8e-5097ad8d4177",
   "metadata": {},
   "outputs": [
    {
     "data": {
      "text/html": [
       "<style>\n",
       ".dl-inline {width: auto; margin:0; padding: 0}\n",
       ".dl-inline>dt, .dl-inline>dd {float: none; width: auto; display: inline-block}\n",
       ".dl-inline>dt::after {content: \":\\0020\"; padding-right: .5ex}\n",
       ".dl-inline>dt:not(:first-of-type) {padding-left: .5ex}\n",
       "</style><dl class=dl-inline><dt>1</dt><dd>22.4172115384614</dd><dt>2</dt><dd>24.5722115384615</dd><dt>3</dt><dd>32.5090384615385</dd><dt>4</dt><dd>31.100467032967</dd><dt>5</dt><dd>33.4690384615384</dd><dt>6</dt><dd>37.5690384615385</dd><dt>7</dt><dd>34.2033241758242</dd><dt>8</dt><dd>33.2118956043956</dd><dt>9</dt><dd>36.9876098901099</dd><dt>10</dt><dd>37.0361813186813</dd><dt>11</dt><dd>39.1647527472527</dd><dt>12</dt><dd>45.8061813186813</dd><dt>13</dt><dd>27.6637225274726</dd><dt>14</dt><dd>29.8187225274725</dd><dt>15</dt><dd>37.7555494505495</dd><dt>16</dt><dd>36.346978021978</dd><dt>17</dt><dd>38.7155494505495</dd><dt>18</dt><dd>42.8155494505495</dd><dt>19</dt><dd>39.4498351648352</dd><dt>20</dt><dd>38.4584065934066</dd><dt>21</dt><dd>42.2341208791209</dd><dt>22</dt><dd>42.2826923076923</dd><dt>23</dt><dd>44.4112637362637</dd><dt>24</dt><dd>51.0526923076923</dd><dt>25</dt><dd>32.9102335164835</dd><dt>26</dt><dd>35.0652335164835</dd><dt>27</dt><dd>43.0020604395604</dd><dt>28</dt><dd>41.593489010989</dd><dt>29</dt><dd>43.9620604395604</dd><dt>30</dt><dd>48.0620604395604</dd><dt>31</dt><dd>44.6963461538462</dd><dt>32</dt><dd>43.7049175824176</dd><dt>33</dt><dd>47.4806318681319</dd><dt>34</dt><dd>47.5292032967033</dd><dt>35</dt><dd>49.6577747252747</dd><dt>36</dt><dd>56.2992032967033</dd><dt>37</dt><dd>38.1567445054945</dd><dt>38</dt><dd>40.3117445054945</dd><dt>39</dt><dd>48.2485714285714</dd><dt>40</dt><dd>46.84</dd><dt>41</dt><dd>49.2085714285714</dd><dt>42</dt><dd>53.3085714285714</dd><dt>43</dt><dd>49.9428571428571</dd><dt>44</dt><dd>48.9514285714286</dd><dt>45</dt><dd>52.7271428571429</dd><dt>46</dt><dd>52.7757142857143</dd><dt>47</dt><dd>54.9042857142857</dd><dt>48</dt><dd>61.5457142857143</dd><dt>49</dt><dd>43.4032554945055</dd><dt>50</dt><dd>45.5582554945055</dd><dt>51</dt><dd>53.4950824175824</dd><dt>52</dt><dd>52.086510989011</dd><dt>53</dt><dd>54.4550824175824</dd><dt>54</dt><dd>58.5550824175824</dd><dt>55</dt><dd>55.1893681318681</dd><dt>56</dt><dd>54.1979395604396</dd><dt>57</dt><dd>57.9736538461538</dd><dt>58</dt><dd>58.0222252747253</dd><dt>59</dt><dd>60.1507967032967</dd><dt>60</dt><dd>66.7922252747253</dd><dt>61</dt><dd>48.6497664835165</dd><dt>62</dt><dd>50.8047664835165</dd><dt>63</dt><dd>58.7415934065934</dd><dt>64</dt><dd>57.333021978022</dd><dt>65</dt><dd>59.7015934065934</dd><dt>66</dt><dd>63.8015934065934</dd><dt>67</dt><dd>60.4358791208791</dd><dt>68</dt><dd>59.4444505494506</dd><dt>69</dt><dd>63.2201648351648</dd><dt>70</dt><dd>63.2687362637363</dd><dt>71</dt><dd>65.3973076923077</dd><dt>72</dt><dd>72.0387362637363</dd><dt>73</dt><dd>53.8962774725275</dd><dt>74</dt><dd>56.0512774725275</dd><dt>75</dt><dd>63.9881043956044</dd><dt>76</dt><dd>62.579532967033</dd><dt>77</dt><dd>64.9481043956044</dd><dt>78</dt><dd>69.0481043956044</dd><dt>79</dt><dd>65.6823901098901</dd><dt>80</dt><dd>64.6909615384615</dd><dt>81</dt><dd>68.4666758241758</dd><dt>82</dt><dd>68.5152472527473</dd><dt>83</dt><dd>70.6438186813187</dd><dt>84</dt><dd>77.2852472527472</dd><dt>85</dt><dd>59.1427884615385</dd><dt>86</dt><dd>61.2977884615385</dd></dl>\n"
      ],
      "text/latex": [
       "\\begin{description*}\n",
       "\\item[1] 22.4172115384614\n",
       "\\item[2] 24.5722115384615\n",
       "\\item[3] 32.5090384615385\n",
       "\\item[4] 31.100467032967\n",
       "\\item[5] 33.4690384615384\n",
       "\\item[6] 37.5690384615385\n",
       "\\item[7] 34.2033241758242\n",
       "\\item[8] 33.2118956043956\n",
       "\\item[9] 36.9876098901099\n",
       "\\item[10] 37.0361813186813\n",
       "\\item[11] 39.1647527472527\n",
       "\\item[12] 45.8061813186813\n",
       "\\item[13] 27.6637225274726\n",
       "\\item[14] 29.8187225274725\n",
       "\\item[15] 37.7555494505495\n",
       "\\item[16] 36.346978021978\n",
       "\\item[17] 38.7155494505495\n",
       "\\item[18] 42.8155494505495\n",
       "\\item[19] 39.4498351648352\n",
       "\\item[20] 38.4584065934066\n",
       "\\item[21] 42.2341208791209\n",
       "\\item[22] 42.2826923076923\n",
       "\\item[23] 44.4112637362637\n",
       "\\item[24] 51.0526923076923\n",
       "\\item[25] 32.9102335164835\n",
       "\\item[26] 35.0652335164835\n",
       "\\item[27] 43.0020604395604\n",
       "\\item[28] 41.593489010989\n",
       "\\item[29] 43.9620604395604\n",
       "\\item[30] 48.0620604395604\n",
       "\\item[31] 44.6963461538462\n",
       "\\item[32] 43.7049175824176\n",
       "\\item[33] 47.4806318681319\n",
       "\\item[34] 47.5292032967033\n",
       "\\item[35] 49.6577747252747\n",
       "\\item[36] 56.2992032967033\n",
       "\\item[37] 38.1567445054945\n",
       "\\item[38] 40.3117445054945\n",
       "\\item[39] 48.2485714285714\n",
       "\\item[40] 46.84\n",
       "\\item[41] 49.2085714285714\n",
       "\\item[42] 53.3085714285714\n",
       "\\item[43] 49.9428571428571\n",
       "\\item[44] 48.9514285714286\n",
       "\\item[45] 52.7271428571429\n",
       "\\item[46] 52.7757142857143\n",
       "\\item[47] 54.9042857142857\n",
       "\\item[48] 61.5457142857143\n",
       "\\item[49] 43.4032554945055\n",
       "\\item[50] 45.5582554945055\n",
       "\\item[51] 53.4950824175824\n",
       "\\item[52] 52.086510989011\n",
       "\\item[53] 54.4550824175824\n",
       "\\item[54] 58.5550824175824\n",
       "\\item[55] 55.1893681318681\n",
       "\\item[56] 54.1979395604396\n",
       "\\item[57] 57.9736538461538\n",
       "\\item[58] 58.0222252747253\n",
       "\\item[59] 60.1507967032967\n",
       "\\item[60] 66.7922252747253\n",
       "\\item[61] 48.6497664835165\n",
       "\\item[62] 50.8047664835165\n",
       "\\item[63] 58.7415934065934\n",
       "\\item[64] 57.333021978022\n",
       "\\item[65] 59.7015934065934\n",
       "\\item[66] 63.8015934065934\n",
       "\\item[67] 60.4358791208791\n",
       "\\item[68] 59.4444505494506\n",
       "\\item[69] 63.2201648351648\n",
       "\\item[70] 63.2687362637363\n",
       "\\item[71] 65.3973076923077\n",
       "\\item[72] 72.0387362637363\n",
       "\\item[73] 53.8962774725275\n",
       "\\item[74] 56.0512774725275\n",
       "\\item[75] 63.9881043956044\n",
       "\\item[76] 62.579532967033\n",
       "\\item[77] 64.9481043956044\n",
       "\\item[78] 69.0481043956044\n",
       "\\item[79] 65.6823901098901\n",
       "\\item[80] 64.6909615384615\n",
       "\\item[81] 68.4666758241758\n",
       "\\item[82] 68.5152472527473\n",
       "\\item[83] 70.6438186813187\n",
       "\\item[84] 77.2852472527472\n",
       "\\item[85] 59.1427884615385\n",
       "\\item[86] 61.2977884615385\n",
       "\\end{description*}\n"
      ],
      "text/markdown": [
       "1\n",
       ":   22.41721153846142\n",
       ":   24.57221153846153\n",
       ":   32.50903846153854\n",
       ":   31.1004670329675\n",
       ":   33.46903846153846\n",
       ":   37.56903846153857\n",
       ":   34.20332417582428\n",
       ":   33.21189560439569\n",
       ":   36.987609890109910\n",
       ":   37.036181318681311\n",
       ":   39.164752747252712\n",
       ":   45.806181318681313\n",
       ":   27.663722527472614\n",
       ":   29.818722527472515\n",
       ":   37.755549450549516\n",
       ":   36.34697802197817\n",
       ":   38.715549450549518\n",
       ":   42.815549450549519\n",
       ":   39.449835164835220\n",
       ":   38.458406593406621\n",
       ":   42.234120879120922\n",
       ":   42.282692307692323\n",
       ":   44.411263736263724\n",
       ":   51.052692307692325\n",
       ":   32.910233516483526\n",
       ":   35.065233516483527\n",
       ":   43.002060439560428\n",
       ":   41.59348901098929\n",
       ":   43.962060439560430\n",
       ":   48.062060439560431\n",
       ":   44.696346153846232\n",
       ":   43.704917582417633\n",
       ":   47.480631868131934\n",
       ":   47.529203296703335\n",
       ":   49.657774725274736\n",
       ":   56.299203296703337\n",
       ":   38.156744505494538\n",
       ":   40.311744505494539\n",
       ":   48.248571428571440\n",
       ":   46.8441\n",
       ":   49.208571428571442\n",
       ":   53.308571428571443\n",
       ":   49.942857142857144\n",
       ":   48.951428571428645\n",
       ":   52.727142857142946\n",
       ":   52.775714285714347\n",
       ":   54.904285714285748\n",
       ":   61.545714285714349\n",
       ":   43.403255494505550\n",
       ":   45.558255494505551\n",
       ":   53.495082417582452\n",
       ":   52.08651098901153\n",
       ":   54.455082417582454\n",
       ":   58.555082417582455\n",
       ":   55.189368131868156\n",
       ":   54.197939560439657\n",
       ":   57.973653846153858\n",
       ":   58.022225274725359\n",
       ":   60.150796703296760\n",
       ":   66.792225274725361\n",
       ":   48.649766483516562\n",
       ":   50.804766483516563\n",
       ":   58.741593406593464\n",
       ":   57.33302197802265\n",
       ":   59.701593406593466\n",
       ":   63.801593406593467\n",
       ":   60.435879120879168\n",
       ":   59.444450549450669\n",
       ":   63.220164835164870\n",
       ":   63.268736263736371\n",
       ":   65.397307692307772\n",
       ":   72.038736263736373\n",
       ":   53.896277472527574\n",
       ":   56.051277472527575\n",
       ":   63.988104395604476\n",
       ":   62.57953296703377\n",
       ":   64.948104395604478\n",
       ":   69.048104395604479\n",
       ":   65.682390109890180\n",
       ":   64.690961538461581\n",
       ":   68.466675824175882\n",
       ":   68.515247252747383\n",
       ":   70.643818681318784\n",
       ":   77.285247252747285\n",
       ":   59.142788461538586\n",
       ":   61.2977884615385\n",
       "\n"
      ],
      "text/plain": [
       "       1        2        3        4        5        6        7        8 \n",
       "22.41721 24.57221 32.50904 31.10047 33.46904 37.56904 34.20332 33.21190 \n",
       "       9       10       11       12       13       14       15       16 \n",
       "36.98761 37.03618 39.16475 45.80618 27.66372 29.81872 37.75555 36.34698 \n",
       "      17       18       19       20       21       22       23       24 \n",
       "38.71555 42.81555 39.44984 38.45841 42.23412 42.28269 44.41126 51.05269 \n",
       "      25       26       27       28       29       30       31       32 \n",
       "32.91023 35.06523 43.00206 41.59349 43.96206 48.06206 44.69635 43.70492 \n",
       "      33       34       35       36       37       38       39       40 \n",
       "47.48063 47.52920 49.65777 56.29920 38.15674 40.31174 48.24857 46.84000 \n",
       "      41       42       43       44       45       46       47       48 \n",
       "49.20857 53.30857 49.94286 48.95143 52.72714 52.77571 54.90429 61.54571 \n",
       "      49       50       51       52       53       54       55       56 \n",
       "43.40326 45.55826 53.49508 52.08651 54.45508 58.55508 55.18937 54.19794 \n",
       "      57       58       59       60       61       62       63       64 \n",
       "57.97365 58.02223 60.15080 66.79223 48.64977 50.80477 58.74159 57.33302 \n",
       "      65       66       67       68       69       70       71       72 \n",
       "59.70159 63.80159 60.43588 59.44445 63.22016 63.26874 65.39731 72.03874 \n",
       "      73       74       75       76       77       78       79       80 \n",
       "53.89628 56.05128 63.98810 62.57953 64.94810 69.04810 65.68239 64.69096 \n",
       "      81       82       83       84       85       86 \n",
       "68.46668 68.51525 70.64382 77.28525 59.14279 61.29779 "
      ]
     },
     "metadata": {},
     "output_type": "display_data"
    }
   ],
   "source": [
    "model_export"
   ]
  },
  {
   "cell_type": "code",
   "execution_count": 497,
   "id": "93f3f4d8-6c59-45cd-880f-a5a3a55bfadd",
   "metadata": {},
   "outputs": [],
   "source": [
    "## feature engineering\n",
    "df_export = data.frame(\n",
    "    trend = 1:86, ## time\n",
    "    month = as.factor(cycle(export)), ## month cycle\n",
    "    export = z ## Z_t\n",
    ")\n",
    "\n",
    "## fitting\n",
    "model_export = lm(export~0+trend+month, df_export)\n",
    "\n",
    "new_data = data.frame(\n",
    "    trend = 87:98,\n",
    "    month = as.factor(c(3:12, 1:2))\n",
    ")"
   ]
  },
  {
   "cell_type": "markdown",
   "id": "d450bd2e-5456-47c9-8086-8308c0844fa1",
   "metadata": {},
   "source": [
    "`-` **(7) 예측구간 시계열 그림**"
   ]
  },
  {
   "cell_type": "code",
   "execution_count": null,
   "id": "f21af15f-3621-401d-92c8-9ca8bb171a7a",
   "metadata": {},
   "outputs": [],
   "source": [
    "ggplot(df_export) +\n",
    "    ggtitle(\"월별 수출액 예측값 및 예측구간\") +\n",
    "    geom_line(aes(x = trend, y = export), col = \"darkorange\") +\n",
    "    geom_line(data = interval, aes(x = trend, y = fit), col = \"red\") +\n",
    "    geom_line(data = interval, aes(x = trend, y = lwr), col = \"steelblue\", alpha = 0.5) +\n",
    "    geom_line(data = interval, aes(x = trend, y = upr), col = \"steelblue\", alpha = 0.5) +\n",
    "    geom_ribbon(data = interval, aes(x = trend, ymax=upr, ymin=lwr), fill = \"steelblue\", alpha = 0.5) +\n",
    "    theme_bw() +\n",
    "    theme(axis.title = element_blank(), axis.text = element_text(size=20),\n",
    "         plot.title = element_text(hjust = 0.5, size = 25))"
   ]
  }
 ],
 "metadata": {
  "kernelspec": {
   "display_name": "R",
   "language": "R",
   "name": "ir"
  },
  "language_info": {
   "codemirror_mode": "r",
   "file_extension": ".r",
   "mimetype": "text/x-r-source",
   "name": "R",
   "pygments_lexer": "r",
   "version": "4.3.3"
  }
 },
 "nbformat": 4,
 "nbformat_minor": 5
}
