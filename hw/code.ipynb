{
 "cells": [
  {
   "cell_type": "markdown",
   "id": "8ed6b169-403a-4871-9a21-bf4d4be28392",
   "metadata": {},
   "source": [
    "`-` 1번 문제"
   ]
  },
  {
   "cell_type": "code",
   "execution_count": 9,
   "id": "2ac1051d-6942-4cb8-8f26-6e23e8ca12c3",
   "metadata": {},
   "outputs": [
    {
     "data": {
      "text/html": [
       "483"
      ],
      "text/latex": [
       "483"
      ],
      "text/markdown": [
       "483"
      ],
      "text/plain": [
       "[1] 483"
      ]
     },
     "metadata": {},
     "output_type": "display_data"
    },
    {
     "data": {
      "text/html": [
       "14.4555555555556"
      ],
      "text/latex": [
       "14.4555555555556"
      ],
      "text/markdown": [
       "14.4555555555556"
      ],
      "text/plain": [
       "[1] 14.45556"
      ]
     },
     "metadata": {},
     "output_type": "display_data"
    },
    {
     "data": {
      "text/html": [
       "-2.2621571627982"
      ],
      "text/latex": [
       "-2.2621571627982"
      ],
      "text/markdown": [
       "-2.2621571627982"
      ],
      "text/plain": [
       "[1] -2.262157"
      ]
     },
     "metadata": {},
     "output_type": "display_data"
    },
    {
     "data": {
      "text/html": [
       "-9.02062253474227"
      ],
      "text/latex": [
       "-9.02062253474227"
      ],
      "text/markdown": [
       "-9.02062253474227"
      ],
      "text/plain": [
       "[1] -9.020623"
      ]
     },
     "metadata": {},
     "output_type": "display_data"
    }
   ],
   "source": [
    "z = c(52, 46, 46, 52, 50, 50, 48, 45, 41, 53) ## data\n",
    "t = 1:10 ## time\n",
    "\n",
    "sum(z)\n",
    "\n",
    "## CI\n",
    "sum((z - 48.3)^2)/9\n",
    "qt(0.025, 9)\n",
    "qt(0.025, 9)*sqrt(1.1*sum((z - 48.3)^2)/9) ## Lower bound"
   ]
  },
  {
   "cell_type": "markdown",
   "id": "f28dcb33-f269-45a3-b791-7f6cfb4e3510",
   "metadata": {},
   "source": [
    "`-` 2번 문제"
   ]
  },
  {
   "cell_type": "code",
   "execution_count": 3,
   "id": "a775e1a3-99b2-4a94-9aab-de725abf2a14",
   "metadata": {},
   "outputs": [
    {
     "data": {
      "text/html": [
       "4753"
      ],
      "text/latex": [
       "4753"
      ],
      "text/markdown": [
       "4753"
      ],
      "text/plain": [
       "[1] 4753"
      ]
     },
     "metadata": {},
     "output_type": "display_data"
    },
    {
     "data": {
      "text/html": [
       "38692"
      ],
      "text/latex": [
       "38692"
      ],
      "text/markdown": [
       "38692"
      ],
      "text/plain": [
       "[1] 38692"
      ]
     },
     "metadata": {},
     "output_type": "display_data"
    },
    {
     "data": {
      "text/html": [
       "2.3857142857143"
      ],
      "text/latex": [
       "2.3857142857143"
      ],
      "text/markdown": [
       "2.3857142857143"
      ],
      "text/plain": [
       "[1] 2.385714"
      ]
     },
     "metadata": {},
     "output_type": "display_data"
    },
    {
     "data": {
      "text/html": [
       "297.781066666667"
      ],
      "text/latex": [
       "297.781066666667"
      ],
      "text/markdown": [
       "297.781066666667"
      ],
      "text/plain": [
       "[1] 297.7811"
      ]
     },
     "metadata": {},
     "output_type": "display_data"
    }
   ],
   "source": [
    "z = c(303, 298, 303, 314, 303, 314, 310, 324, 317, 327, 323, 324, 331, 330, 332) ## data\n",
    "t = 1:15 ## time\n",
    "\n",
    "sum(z)\n",
    "sum(t*z)\n",
    "\n",
    "12/3360*38692 - 6/210*4753 ## beta1\n",
    "4753/15 - 2.3857*8 ## beta0"
   ]
  },
  {
   "cell_type": "code",
   "execution_count": null,
   "id": "5c1b8201-a773-4c3c-9533-aabc48c9ebbe",
   "metadata": {},
   "outputs": [],
   "source": []
  }
 ],
 "metadata": {
  "kernelspec": {
   "display_name": "R",
   "language": "R",
   "name": "ir"
  },
  "language_info": {
   "codemirror_mode": "r",
   "file_extension": ".r",
   "mimetype": "text/x-r-source",
   "name": "R",
   "pygments_lexer": "r",
   "version": "4.3.3"
  }
 },
 "nbformat": 4,
 "nbformat_minor": 5
}
