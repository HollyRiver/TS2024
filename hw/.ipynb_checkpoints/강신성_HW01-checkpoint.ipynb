{
 "cells": [
  {
   "cell_type": "markdown",
   "id": "3249ddcc-549a-40fe-a6b1-95e80a1deda3",
   "metadata": {},
   "source": [
    "## Time Series Analysis : HW01\n",
    "\n",
    "202014107 통계학과 강신성"
   ]
  },
  {
   "cell_type": "markdown",
   "id": "b05d245b-ab8b-466a-b187-1dd314674260",
   "metadata": {},
   "source": [
    "### 1번 문제"
   ]
  },
  {
   "cell_type": "markdown",
   "id": "602b23e2-30dc-47ca-b3ea-d5b5f8298b07",
   "metadata": {},
   "source": [
    "#### (1) 상수평균모형을 적합하여라"
   ]
  },
  {
   "cell_type": "markdown",
   "id": "ce5b0dc0-9c35-4cfe-a469-abc53081dcea",
   "metadata": {},
   "source": [
    "상수평균모형 : $Z_t = \\beta_0 + \\epsilon_t, ~ t = 1, 2, \\cdots, 10$\n",
    "\n",
    "$\\hat\\beta_0 = \\frac{1}{10}\\underset{t = 1}{\\overset{10}{\\sum}} Z_t = 48.3$\n",
    "\n",
    "$\\therefore$ 적합된 모형 : $\\hat Z_{10}(l) = 48.3$"
   ]
  },
  {
   "cell_type": "markdown",
   "id": "17748563-04a3-4e4c-80af-7d7177d76ec9",
   "metadata": {},
   "source": [
    "#### (2) 미래값 $Z_{10+l}$에 대한 예측값 $\\hat Z_{10}(l)$을 구하시오. ($l = 1, 2, 3, 4, 5$)"
   ]
  },
  {
   "cell_type": "markdown",
   "id": "b98c9fdf-2b7e-440f-8e69-545d862abea5",
   "metadata": {},
   "source": [
    "상수평균모형이므로 예측값은 상수이다. 즉, $\\hat Z_{10}(1) = \\hat Z_{10}(2) = \\cdots = \\hat Z_{10}(5) = 48.3$"
   ]
  },
  {
   "cell_type": "markdown",
   "id": "33a96681-7aa6-4ba3-b275-6db9f6928b09",
   "metadata": {},
   "source": [
    "#### (3) 미래값 $Z_{10+l}, ~ l = 1, 2, 3, 4, 5$에 대한 $95\\%$ 예측구간을 구하고, 예측값 및 예측구간의 하한값과 상한값을 관측값 $Z_t$의 시계열과 함께 표시하여라."
   ]
  },
  {
   "cell_type": "markdown",
   "id": "d73bbe71-f882-4925-9a21-7f36d7724175",
   "metadata": {},
   "source": [
    "$Z_{10+l}$의 $95\\%$ 예측구간의 수식은 $\\bar Z \\pm t_{0.025}(9) \\times \\sqrt{(1+\\frac{1}{10})s^2}$이고,\n",
    "\n",
    "$s^2 = \\frac19 \\underset{t=1}{\\overset{10}{\\sum}} e_t^2 = \\frac19\\{(52-48.3)^2 + \\cdots + (53 - 48.3)^2\\} = 14.455, ~ t_{0.025}(9) = 2.262$\n",
    "\n",
    "$\\therefore \\bar Z \\pm t_{0.025}(9) \\times \\sqrt{(1+\\frac{1}{10})s^2} = 48.3 \\pm 2.262 \\times \\sqrt{15.901} = 48.3 \\pm 9.02 = (39.28, 57.32)$"
   ]
  },
  {
   "cell_type": "markdown",
   "id": "3625d455-ca6f-437c-9b7d-6b8f4b11fd6e",
   "metadata": {},
   "source": [
    "이를, $l = 1, 2, 3, 4, 5$에 대하여 정리하면 아래와 같다."
   ]
  },
  {
   "cell_type": "markdown",
   "id": "f66ac6f1-e968-48db-8fd0-95dd8e5ba657",
   "metadata": {},
   "source": [
    "|$l$|1|2|3|4|5|\n",
    "|:-:|:-:|:-:|:-:|:-:|:-:|\n",
    "|예측값 $\\hat Z_{10}(l)$|48.3|48.3|48.3|48.3|48.3|\n",
    "|$95\\%$ 하한값|39.28|39.28|39.28|39.28|39.28|\n",
    "|$95\\%$ 상한값|57.32|57.32|57.32|57.32|57.32|\n",
    "|$95\\%$ 예측구간|(39.28, 57.32)|(39.28, 57.32)|(39.28, 57.32)|(39.28, 57.32)|(39.28, 57.32)|\n",
    "\n",
    "상수평균모형이기 때문에, 예측값은 상수이고, 신뢰구간 또한 동일하다."
   ]
  },
  {
   "cell_type": "markdown",
   "id": "2e3f9351-83b9-4249-99d4-68544292e04d",
   "metadata": {},
   "source": [
    "### 2번 문제"
   ]
  },
  {
   "cell_type": "markdown",
   "id": "b550f382-baaa-4fe8-943d-430e432e1855",
   "metadata": {},
   "source": [
    "#### (1) 선형추세모형을 쓰시오"
   ]
  },
  {
   "cell_type": "markdown",
   "id": "6ab2ec92-8a83-43f6-9f1e-80c45ebe63eb",
   "metadata": {},
   "source": [
    "선형추세모형 : $Z_t = \\beta_0 + \\beta_1 t + \\epsilon_t, ~ t = 1, 2, \\cdots, 15$"
   ]
  },
  {
   "cell_type": "markdown",
   "id": "7e75df1c-73bb-4094-b651-325c9b577ed3",
   "metadata": {},
   "source": [
    "#### (2) 최소제곱법에 의하여 구한 $\\beta_0, \\beta_1$의 추정량이 각각 다음과 같아짐을 보여라."
   ]
  },
  {
   "cell_type": "markdown",
   "id": "c8b72317-6dcc-424c-a22a-0e334b46626d",
   "metadata": {},
   "source": [
    "* 최소제곱추정량\n",
    "\n",
    "$$\\begin{align} \\hat \\beta_0 & = \\bar y - \\hat \\beta_1 \\bar x\\\\\n",
    "\\hat \\beta_1 & = \\frac{S_{xy}}{S_{xx}}\n",
    "\\end{align}$$"
   ]
  },
  {
   "cell_type": "markdown",
   "id": "8d72011e-5fb2-4745-b664-2efce1a4e162",
   "metadata": {},
   "source": [
    "#### (3) 선형추세모형을 적합하시오."
   ]
  },
  {
   "cell_type": "markdown",
   "id": "fbeb4a35-9e8c-4e66-be21-8e3ce58bc82e",
   "metadata": {},
   "source": [
    "#### (4) 미래값 $Z_{15 + l}$에 대한 예측값 $\\hat Z_{15}(l)$을 구하시오. ($l = 1, 2, 3, 4, 5$)"
   ]
  },
  {
   "cell_type": "code",
   "execution_count": null,
   "id": "a2e67bbe-590e-4fdb-a392-f753495f75d6",
   "metadata": {},
   "outputs": [],
   "source": []
  }
 ],
 "metadata": {
  "kernelspec": {
   "display_name": "R",
   "language": "R",
   "name": "ir"
  },
  "language_info": {
   "codemirror_mode": "r",
   "file_extension": ".r",
   "mimetype": "text/x-r-source",
   "name": "R",
   "pygments_lexer": "r",
   "version": "4.3.3"
  }
 },
 "nbformat": 4,
 "nbformat_minor": 5
}
