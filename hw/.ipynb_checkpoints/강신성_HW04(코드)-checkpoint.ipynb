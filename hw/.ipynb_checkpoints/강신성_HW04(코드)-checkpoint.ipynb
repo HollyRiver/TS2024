{
 "cells": [
  {
   "cell_type": "markdown",
   "id": "ddf2460b-5d18-4463-aa58-716a9ec9e4c3",
   "metadata": {},
   "source": [
    "### Imports & Setting"
   ]
  },
  {
   "cell_type": "code",
   "execution_count": 7,
   "id": "cb2d8370-d7cf-4d46-95a4-a9a912645d5e",
   "metadata": {},
   "outputs": [],
   "source": [
    "## library imports\n",
    "library(forecast)\n",
    "library(fUnitRoots)\n",
    "library(portes)\n",
    "library(astsa)\n",
    "library(sarima)\n",
    "\n",
    "## setting\n",
    "options(repr.plot.width = 15, repr.plot.height = 8)\n",
    "setwd(\"~/TS2024/data/Time Series Data/\")"
   ]
  },
  {
   "cell_type": "markdown",
   "id": "519cff9f-0e88-4c08-9083-56c29b4dd143",
   "metadata": {},
   "source": [
    "### 1번 문제"
   ]
  },
  {
   "cell_type": "code",
   "execution_count": null,
   "id": "7c988c78-2d4c-4734-a0bb-1f1fb58bb169",
   "metadata": {},
   "outputs": [],
   "source": [
    "##----------(6) acf/pacf plot----------\n",
    "data1 = list(acf = as.numeric(strsplit(\"-0.48 -0.04 -0.06 0.14 -0.22 0.19 -0.10 -0.02 0.09 -0.03 -0.12 0.09 0.03\", \" \")[[1]]),\n",
    "             pacf = as.numeric(strsplit(\"-0.48 -0.24 -0.21 0.01 -0.20 -0.01 -0.05 -0.15 -0.04 -0.06 -0.04 0.02 0.06\", \" \")[[1]]))\n",
    "data2 = list(acf = as.numeric(strsplit(\"0.59 0.44 0.33 0.23 0.24 0.16 0.05 0.01 -0.03 -0.11 -0.08 -0.07 0.01\", \" \")[[1]]),\n",
    "             pacf = as.numeric(strsplit(\"0.59 0.13 0.04 -0.02 0.12 -0.05 -0.12 -0.03 -0.01 -0.13 0.06 0.04 0.13\", \" \")[[1]]))\n",
    "data3 = list(acf = as.numeric(strsplit(\"-0.44 -0.05 -0.01 -0.03 0.12 -0.15 0.15 -0.04 -0.10 0.09 0.08 -0.07 0.06\", \" \")[[1]]),\n",
    "             pacf = as.numeric(strsplit(\"-0.44 -0.31 -0.25 -0.25 -0.07 -0.21 -0.01 0.02 -0.09 -0.02 0.03 -0.02 0.01\", \" \")[[1]]))\n",
    "data = list(data1, data2, data3)\n",
    "\n",
    "for (i in 1:3) {\n",
    "    if (i != 3) {\n",
    "        data[[i]] = append(list(crit = 1.96*(cumsum(c(1, 2*data[[i]][[1]]^2))/100)^0.5), data[[i]])\n",
    "    }\n",
    "\n",
    "    else {\n",
    "        data[[i]] = append(list(crit = 1.96*(cumsum(c(1, 2*data[[i]][[1]]^2))/99)^0.5), data[[i]])\n",
    "    }\n",
    "}\n",
    "\n",
    "## plotting 3 plots\n",
    "for (i in 1:3) {\n",
    "    par(mfrow = c(1,2))\n",
    "    plot(x = 1:13, y = data[[i]]$acf, type = \"n\", ylim = c(-1, 1), main = paste(\"data\", i,\"ACF\"), xlab = \"lag\", ylab = \"ACF\")\n",
    "    abline(h = 0)\n",
    "    segments(x0 = 1:13, y0 = 0, x1 = 1:13, y1 = data[[i]]$acf)\n",
    "    lines(x = 1:13, y = data[[i]]$crit[-14], lty = 2, col = \"skyblue\", lwd = 2)\n",
    "    lines(x = 1:13, y = -data[[i]]$crit[-14], lty = 2, col = \"skyblue\", lwd = 2)\n",
    "\n",
    "    plot(x = 1:13, y = data[[i]]$pacf, type = \"n\", ylim = c(-1, 1), main = paste(\"data\", i,\"PACF\"), xlab = \"lag\", ylab = \"PACF\")\n",
    "    abline(h = 0)\n",
    "    segments(x0 = 1:13, y0 = 0, x1 = 1:13, y1 = data[[i]]$pacf)\n",
    "    abline(h = 0.2, lty = 2, col = \"skyblue\", lwd = 2)\n",
    "    abline(h = -0.2, lty = 2, col = \"skyblue\", lwd = 2)\n",
    "}"
   ]
  },
  {
   "cell_type": "markdown",
   "id": "63a8fc3c-2312-44f4-b318-21ad4959ad3e",
   "metadata": {},
   "source": [
    "### 2번 문제"
   ]
  },
  {
   "cell_type": "code",
   "execution_count": null,
   "id": "cc17c9c3-5b0a-4c39-b50c-a01411c20b4c",
   "metadata": {},
   "outputs": [],
   "source": [
    "## data\n",
    "z1 = scan(\"ex8_2a.txt\")\n",
    "z2 = scan(\"ex8_2b.txt\")\n",
    "\n",
    "##----------ex8_2a.txt data 분석----------\n",
    "tsdisplay(z1, main = \"ex8_2a.txt의 시계열 그림 및 SACF/SPACF\", cex.main = 2)\n",
    "t.test(z1)\n",
    "adfTest(z1, lags = 1, type = \"c\") ## 평균 수준이 0이 아님\n",
    "\n",
    "## AR(2) process : 선택 모형\n",
    "fit1 = arima(z1, order = c(2,0,0), include.mean = T)\n",
    "lmtest::coeftest(fit1)\n",
    "t.test(fit1$residuals)\n",
    "tseries::jarque.bera.test(fit1$fit1$residuals) ## H0 : normal distribution\n",
    "portes::LjungBox(fit1, lags = c(6, 12, 18, 24)) ## H0 : rho1 = ... = rho_k(White noise)\n",
    "astsa::sarima(z1, p=2, d=0, q=0)\n",
    "\n",
    "## MA(3) process\n",
    "fit2 = arima(z1, order = c(0,0,3), include.mean = T)\n",
    "lmtest::coeftest(fit2)\n",
    "astsa::sarima(z1, p=0, d=0, q=3)\n",
    "\n",
    "## auto.arima 결과\n",
    "forecast::auto.arima(z1, d=0, ic='aic', trace = T) ## 차분 없음\n",
    "\n",
    "##----------ex8_2b.txt data 분석----------\n",
    "tsdisplay(z2, main = \"ex8_2b.txt의 시계열 그림 및 SACF/SPACF\", cex.main = 2)\n",
    "t.test(z2)\n",
    "adfTest(z2, lags = 1, type = \"c\") ## 평균 수준이 0이 아님\n",
    "\n",
    "## AR(1) process : 선택 모형\n",
    "fit1 = arima(z2, order = c(1,0,0), include.mean = T)\n",
    "lmtest::coeftest(fit1)\n",
    "t.test(fit1$residuals)\n",
    "tseries::jarque.bera.test(fit1$fit1$residuals)\n",
    "portes::LjungBox(fit1, lags = c(6, 12, 18, 24))\n",
    "astsa::sarima(z2, p=1, d=0, q=0)\n",
    "\n",
    "## MA(3) process\n",
    "fit2 = arima(z2, order = c(0,0,3), include.mean = T)\n",
    "lmtest::coeftest(fit2)\n",
    "astsa::sarima(z2, p=0, d=0, q=3)\n",
    "\n",
    "## auto.arima 결과\n",
    "forecast::auto.arima(z2, d=0, ic='aic', trace = T) ## 차분 없음"
   ]
  },
  {
   "cell_type": "markdown",
   "id": "8ffb5fe7-1970-44e5-89df-43cdd68dcebd",
   "metadata": {},
   "source": [
    "### 4번 문제"
   ]
  },
  {
   "cell_type": "code",
   "execution_count": null,
   "id": "f43e334d-69da-4c7e-be59-fbb77db3e2cc",
   "metadata": {},
   "outputs": [],
   "source": [
    "start = c(44.00, 46.154)\n",
    "\n",
    "for (i in 1:100) {\n",
    "    start = c(start, 16.5 + 1.38*start[i+1] - 0.7*start[i])\n",
    "}\n",
    "\n",
    "plot(101:202, start, type = 'l', lwd = 2, col = \"skyblue\",\n",
    "     xlab = \"t\", ylab = \"forecasting\", main = \"시점 t = 100에서의 예측값\", cex.main = 2)\n",
    "\n",
    "start = c(44.38, 47.08)\n",
    "\n",
    "for (i in 1:100) {\n",
    "    start = c(start, 16.49 + 1.38*start[i+1] - 0.7*start[i])\n",
    "}\n",
    "\n",
    "plot(101:202, start, type = 'l', lwd = 2, col = \"skyblue\",\n",
    "     xlab = \"t\", ylab = \"forecasting\", main = \"시점 t = 100에서의 예측값\", cex.main = 2)"
   ]
  },
  {
   "cell_type": "markdown",
   "id": "939f2c9a-ed4f-43ba-825c-9543410a9b39",
   "metadata": {},
   "source": [
    "### 5번 문제"
   ]
  },
  {
   "cell_type": "code",
   "execution_count": null,
   "id": "eb837d6d-e330-4bb2-ac33-b6a417d4d3c1",
   "metadata": {},
   "outputs": [],
   "source": [
    "## Z_100, Z_101\n",
    "start = c(44.38, 47.08)\n",
    "\n",
    "for (i in 1:100) {\n",
    "    start = c(start, 16.49 + 1.38*start[i+1] - 0.7*start[i])\n",
    "}\n",
    "\n",
    "plot(101:202, start, type = 'l', lwd = 2, col = \"skyblue\",\n",
    "     xlab = \"t\", ylab = \"forecasting\", main = \"시점 t = 100에서의 예측값\", cex.main = 2)"
   ]
  }
 ],
 "metadata": {
  "kernelspec": {
   "display_name": "R",
   "language": "R",
   "name": "ir"
  },
  "language_info": {
   "codemirror_mode": "r",
   "file_extension": ".r",
   "mimetype": "text/x-r-source",
   "name": "R",
   "pygments_lexer": "r",
   "version": "4.3.3"
  }
 },
 "nbformat": 4,
 "nbformat_minor": 5
}
