{
 "cells": [
  {
   "cell_type": "markdown",
   "id": "2f23f00e-2bdc-4339-b3c9-b4935d6019f5",
   "metadata": {},
   "source": [
    "### library imports"
   ]
  },
  {
   "cell_type": "code",
   "execution_count": null,
   "id": "7b9d96de-0f6a-4ffc-808f-2d016b43e69f",
   "metadata": {},
   "outputs": [],
   "source": [
    "library(ggplot2)\n",
    "library(lubridate)\n",
    "library(forecast)\n",
    "library(lmtest)\n",
    "setwd(\"~/TS2024/data/Time Series Data/\")\n",
    "options(repr.plot.width = 16, repr.plot.height = 9)"
   ]
  },
  {
   "cell_type": "markdown",
   "id": "8ed6b169-403a-4871-9a21-bf4d4be28392",
   "metadata": {},
   "source": [
    "### 1번 문제"
   ]
  },
  {
   "cell_type": "code",
   "execution_count": null,
   "id": "a1162714-ddb9-4f2f-94b6-d93864c68b70",
   "metadata": {},
   "outputs": [],
   "source": [
    "z = c(52, 46, 46, 52, 50, 50, 48, 45, 41, 53) ## data\n",
    "t = 1:10 ## time\n",
    "\n",
    "sum(z)\n",
    "\n",
    "## (1), (2)\n",
    "mean(z) ## 상수평균모형 적합\n",
    "\n",
    "## (3)\n",
    "sum((z - 48.3)^2)/9\n",
    "qt(0.025, 9)\n",
    "qt(0.025, 9)*sqrt(1.1*sum((z - 48.3)^2)/9) ## Lower bound"
   ]
  },
  {
   "cell_type": "markdown",
   "id": "f28dcb33-f269-45a3-b791-7f6cfb4e3510",
   "metadata": {},
   "source": [
    "### 2번 문제"
   ]
  },
  {
   "cell_type": "code",
   "execution_count": null,
   "id": "a7ee1deb-ef96-452b-84a6-be8b3f5f53ec",
   "metadata": {},
   "outputs": [],
   "source": [
    "z = c(303, 298, 303, 314, 303, 314, 310, 324, 317, 327, 323, 324, 331, 330, 332) ## data\n",
    "t = 1:15 ## time\n",
    "\n",
    "## (3)\n",
    "sum(z)\n",
    "sum(t*z)\n",
    "\n",
    "beta1 = 12/3360*38692 - 6/210*4753 ## beta1\n",
    "beta0 = 4753/15 - 2.3857*8 ## beta0\n",
    "print(paste(beta1, beta0))\n",
    "\n",
    "## (4)\n",
    "round(beta0+beta1*(16:20), 3)"
   ]
  },
  {
   "cell_type": "markdown",
   "id": "b23b599c-f7ee-44ed-9663-602ce5745025",
   "metadata": {},
   "source": [
    "### 3번 문제"
   ]
  },
  {
   "cell_type": "code",
   "execution_count": 211,
   "id": "f5790f90-9d4f-4ea0-b0e6-530431470005",
   "metadata": {},
   "outputs": [
    {
     "name": "stdout",
     "output_type": "stream",
     "text": [
      "[1] \"99.975152010818 1.05243436553494\"\n",
      "[1] \"499.921802226874 1.0358204978152\"\n",
      "[1] \"100.404727757202 76.5005500400452\"\n",
      "[1] \"99.0883109829521 3068.8621392783\"\n"
     ]
    }
   ],
   "source": [
    "## data generating\n",
    "z1 = 100 + rnorm(100, 0, 1) ## (1)\n",
    "z2 = 500 + rnorm(100, 0, 1) ## (2)\n",
    "z3 = 100 + rnorm(100, 0, 10) ## (3)\n",
    "z4 = 100 + seq(1:100)*rnorm(100, 0, 1) ## (4)\n",
    "\n",
    "## (1) 100 + eps\n",
    "m1 = mean(z1)\n",
    "s1 = sd(z1)\n",
    "print(paste(m1, s1^2))\n",
    "\n",
    "## (2) 500 + eps\n",
    "m2 = mean(z2)\n",
    "s2 = sd(z2)\n",
    "print(paste(m2, s2^2))\n",
    "\n",
    "## (3) 100 + eps ~ N(0, 100)\n",
    "m3 = mean(z3)\n",
    "s3 = sd(z3)\n",
    "print(paste(m3, s3^2))\n",
    "\n",
    "## (4) 100 + t*eps\n",
    "m4 = mean(z4)\n",
    "s4 = sd(z4)\n",
    "print(paste(m4, s4^2))"
   ]
  },
  {
   "cell_type": "markdown",
   "id": "ea0a7c95-ed3d-4068-a6b1-d66ed502ad2a",
   "metadata": {},
   "source": [
    "`-` plotting"
   ]
  },
  {
   "cell_type": "code",
   "execution_count": null,
   "id": "b68b5e3c-a018-4e1f-ae7d-206ad43e6f8c",
   "metadata": {},
   "outputs": [],
   "source": [
    "plot(1:100, z1, type = 'l', col = 'black', lwd = 2, ylim = c(-50, 500),\n",
    "     xlab = 'time', ylab = 'value', main = \"모의 시계열자료 시계열 그림\", cex.main = 2)\n",
    "lines(1:100, z2, col = 'red', lwd = 2)\n",
    "lines(1:100, z3, col = 'darkorange', lwd = 2)\n",
    "lines(1:100, z4, col = 'darkcyan', lwd = 2)\n",
    "legend(c(expression('(1)'~100~\"+\"~e[t]~\",\"~e[t]~\"~\"~N(0, 1)),\n",
    "       expression('(2)'~500~\"+\"~e[t]~\",\"~e[t]~\"~\"~N(0, 1)),\n",
    "       expression('(3)'~100~\"+\"~e[t]~\",\"~e[t]~\"~\"~N(0, 100)),\n",
    "       expression('(4)'~100~\"+\"~te[t]~\",\"~e[t]~\"~\"~N(0, 1))),\n",
    "       lwd = 1, col = c(\"black\", \"red\", \"darkorange\", \"darkcyan\"),\n",
    "       x = c(-5, 24), y = c(-80, 50))"
   ]
  },
  {
   "cell_type": "markdown",
   "id": "992b6b13-2d7a-469d-9444-31a54c489f7a",
   "metadata": {},
   "source": [
    "### 4번 문제"
   ]
  },
  {
   "cell_type": "markdown",
   "id": "48795c5d-cf40-4230-9a15-4035cf51421e",
   "metadata": {},
   "source": [
    "`-` **(1) 코드**"
   ]
  },
  {
   "cell_type": "code",
   "execution_count": null,
   "id": "317699e7-5fbd-4f5e-8748-73d5e2142a7b",
   "metadata": {},
   "outputs": [],
   "source": [
    "## data generating\n",
    "Z1 = 100 + rnorm(100, 0, 1)\n",
    "\n",
    "## plotting\n",
    "plot(Z1, type = 'l', col = 'darkorange', lwd = 2, ylim = c(97, 103),\n",
    "     main = expression(Z[t]~\"=\"~100~\"+\"~epsilon[t]~\"의 시계열 그림\"), cex.main = 2,\n",
    "     xlab = 'time', ylab = \"\")\n",
    "abline(h = 100, lwd = 2, col = \"steelblue\")\n",
    "legend(\"topleft\", c(\"Simulation\", \"Expectation\"), lwd = 2, col = c(\"darkorange\", \"steelblue\"))"
   ]
  },
  {
   "cell_type": "markdown",
   "id": "ea7aedaa-afc7-4980-a663-4703db3e76a8",
   "metadata": {},
   "source": [
    "`-` **(2) 코드**"
   ]
  },
  {
   "cell_type": "code",
   "execution_count": null,
   "id": "60cd5048-531b-436e-8b1e-abb74665b2b0",
   "metadata": {},
   "outputs": [],
   "source": [
    "## data generating\n",
    "Z2 = 100 + 1:100 + rnorm(100, 0, 1)\n",
    "Ex = 100 + 1:100\n",
    "\n",
    "## plotting\n",
    "plot(Z2, type = 'l', col = 'darkorange', lwd = 2,\n",
    "     main = expression(Z[t]~\"=\"~100+t+epsilon[t]~\"의 시계열 그림\"), cex.main = 2,\n",
    "     xlab = 'time', ylab = \"\")\n",
    "lines(Ex, lwd = 2, col = \"steelblue\")\n",
    "legend(\"topleft\", c(\"Simulation\", \"Expectation\"), lwd = 2, col = c(\"darkorange\", \"steelblue\"))"
   ]
  },
  {
   "cell_type": "markdown",
   "id": "979114a4-7d40-4f84-87b1-c66498aca9c8",
   "metadata": {},
   "source": [
    "`-` **(3) 코드**"
   ]
  },
  {
   "cell_type": "code",
   "execution_count": null,
   "id": "43a379f0-bbe6-4d28-9f58-9f5ced18cb18",
   "metadata": {},
   "outputs": [],
   "source": [
    "## data generating\n",
    "Z3 = 100 + 1:100*0.3 + sin(2*pi*(1:100)/12) + cos(1*pi*(1:100)/12) + rnorm(100, 0, 1)\n",
    "Ex = 100 + 1:100*0.3 + sin(2*pi*(1:100)/12) + cos(1*pi*(1:100)/12)\n",
    "\n",
    "## plotting\n",
    "plot(Z3, type = 'l', col = 'darkorange', lwd = 2,\n",
    "     main = expression(Z[t]~\"=\"~100+0.3*t+sin(2*pi*t/12)+cos(2*pi*t/12)+epsilon[t]~\"의 시계열 그림\"), cex.main = 2,\n",
    "     xlab = 'time', ylab = \"\")\n",
    "lines(Ex, lwd = 2, col = \"steelblue\")\n",
    "legend(\"topleft\", c(\"Simulation\", \"Expectation\"), lwd = 2, col = c(\"darkorange\", \"steelblue\"))"
   ]
  },
  {
   "cell_type": "markdown",
   "id": "bb72c721-61e1-4a42-98bd-315435074eb1",
   "metadata": {},
   "source": [
    "### 5번 문제"
   ]
  },
  {
   "cell_type": "markdown",
   "id": "f78064d0-a5a4-4801-ae30-48432a4ffb68",
   "metadata": {},
   "source": [
    "`-` **(1) 코드**"
   ]
  },
  {
   "cell_type": "code",
   "execution_count": 179,
   "id": "2679c333-b52e-48e6-98d6-d40290c04469",
   "metadata": {},
   "outputs": [
    {
     "data": {
      "text/html": [
       "86"
      ],
      "text/latex": [
       "86"
      ],
      "text/markdown": [
       "86"
      ],
      "text/plain": [
       "[1] 86"
      ]
     },
     "metadata": {},
     "output_type": "display_data"
    }
   ],
   "source": [
    "## data\n",
    "z = scan(\"export.txt\")\n",
    "length(z)\n",
    "\n",
    "## plotting\n",
    "plot(1:86, z, type = 'l', xlab = 'time', col = \"steelblue\", lwd = 2,\n",
    "     ylab = \"월별수출액(단위:억$)\", main = \"월별수출액 시계열 그림\", cex.main = 2)"
   ]
  },
  {
   "cell_type": "markdown",
   "id": "714b5071-54b8-4b37-a6cd-bf732607562c",
   "metadata": {},
   "source": [
    "`-` **(3) 코드**"
   ]
  },
  {
   "cell_type": "code",
   "execution_count": null,
   "id": "a935213c-6c3a-4129-be26-5b6e897d7948",
   "metadata": {},
   "outputs": [],
   "source": [
    "## data\n",
    "export = ts(z, frequency = 12)\n",
    "export\n",
    "\n",
    "## feature engineering\n",
    "df_export = data.frame(\n",
    "    trend = 1:86, ## time\n",
    "    month = as.factor(cycle(export)), ## month cycle\n",
    "    export = z ## Z_t\n",
    ")\n",
    "\n",
    "df_export |> head()\n",
    "\n",
    "## fitting\n",
    "model_export = lm(export~0+trend+month, df_export)\n",
    "summary(model_export)"
   ]
  },
  {
   "cell_type": "markdown",
   "id": "83c41592-1629-4609-9c93-fab98aba0d90",
   "metadata": {},
   "source": [
    "`-` **(5) 코드**"
   ]
  },
  {
   "cell_type": "code",
   "execution_count": null,
   "id": "f9d782b9-d4c9-4c03-8639-d4463cc90ac0",
   "metadata": {},
   "outputs": [],
   "source": [
    "new_data = data.frame(\n",
    "    trend = 87:98,\n",
    "    month = as.factor(c(3:12, 1:2))\n",
    ")\n",
    "\n",
    "round(predict(model_export, newdata = new_data), 3)"
   ]
  },
  {
   "cell_type": "markdown",
   "id": "2b84be3c-a93b-43c3-9b27-bb8e93812708",
   "metadata": {},
   "source": [
    "`-` **(6) 코드**"
   ]
  },
  {
   "cell_type": "code",
   "execution_count": null,
   "id": "71dbc994-3dd8-48c6-81d9-7df658f022c5",
   "metadata": {},
   "outputs": [],
   "source": [
    "interval = data.frame(predict(model_export, newdata = new_data, interval = \"confidence\"), trend = 87:98)\n",
    "round(interval, 3)"
   ]
  },
  {
   "cell_type": "markdown",
   "id": "730bfd26-bf87-439e-b0b8-cfa6d26c654c",
   "metadata": {},
   "source": [
    "`-` **(7) 예측구간 시계열 그림**"
   ]
  },
  {
   "cell_type": "code",
   "execution_count": null,
   "id": "5639c40d-5161-47e9-a746-ae4aa9f55b43",
   "metadata": {},
   "outputs": [],
   "source": [
    "ggplot(df_export) +\n",
    "    ggtitle(\"월별 수출액 예측값 및 예측구간\") +\n",
    "    geom_line(aes(x = trend, y = export), col = \"darkorange\") +\n",
    "    geom_line(data = interval, aes(x = trend, y = fit), col = \"red\") +\n",
    "    geom_line(data = interval, aes(x = trend, y = lwr), col = \"steelblue\", alpha = 0.5) +\n",
    "    geom_line(data = interval, aes(x = trend, y = upr), col = \"steelblue\", alpha = 0.5) +\n",
    "    geom_ribbon(data = interval, aes(x = trend, ymax=upr, ymin=lwr), fill = \"steelblue\", alpha = 0.5) +\n",
    "    theme_bw() +\n",
    "    theme(axis.title = element_blank(), axis.text = element_text(size=20),\n",
    "         plot.title = element_text(hjust = 0.5, size = 25))"
   ]
  },
  {
   "cell_type": "markdown",
   "id": "a18b0a0a-adc0-49be-9f57-33bea3561ab5",
   "metadata": {},
   "source": [
    "### 6번 문제"
   ]
  },
  {
   "cell_type": "code",
   "execution_count": null,
   "id": "ed44e0c1-00b8-402f-9ef7-61420eb00124",
   "metadata": {},
   "outputs": [],
   "source": [
    "## data\n",
    "z = scan(\"mindex.txt\")\n",
    "\n",
    "## 단순지수평활함수\n",
    "SMA_func = function(w, t) {\n",
    "    output = 0\n",
    "\n",
    "    for (i in 0:(t-1)) {\n",
    "        output = output + w*(1-w)^i*z[t-i]\n",
    "    }\n",
    "\n",
    "    output = output + (1-w)^t*S0\n",
    "\n",
    "    return(output)\n",
    "}\n",
    "\n",
    "S0 = 15 ## 초기 평활값\n",
    "\n",
    "## 가중치 : 0.6\n",
    "for (i in 1:5) {\n",
    "    print(paste(\"가중치 : 0.6, t =\",i , SMA_func(0.6, i)))\n",
    "}\n",
    "\n",
    "## 가중치 : 0.2\n",
    "for (i in 1:5) {\n",
    "    print(paste(\"가중치 : 0.2, t =\",i , SMA_func(0.2, i)))\n",
    "}"
   ]
  },
  {
   "cell_type": "markdown",
   "id": "27c9d348-98f9-457f-9ae5-0323296008a6",
   "metadata": {},
   "source": [
    "### 7번 문제"
   ]
  },
  {
   "cell_type": "markdown",
   "id": "11205d2a-7d40-44e1-be2c-e317b659768d",
   "metadata": {},
   "source": [
    "`-` **(1) `female.txt`**"
   ]
  },
  {
   "cell_type": "code",
   "execution_count": null,
   "id": "3240ffd1-5192-4721-90a6-03cac14d7775",
   "metadata": {},
   "outputs": [],
   "source": [
    "## data\n",
    "female = scan(\"female.txt\")\n",
    "\n",
    "## 시계열 그림\n",
    "plot.ts(female, col = 'darkorange', lwd = 2, xlab = \"\", ylab = \"근로자 수(명)\",\n",
    "        main = \"월별 전문기술행정직 종사 여성근로자 수 시계열 그림\", cex.main = 2)\n",
    "abline(v = seq(1, 120, by = 12), lty = 2) ## 계절성 판단\n",
    "legend(\"topleft\", c(\"근로자 수(명)\", \"계절성분 간격 (12 month)\"),\n",
    "       lty = c(1, 2), col = c(\"darkorange\", \"black\"), lwd = c(2, 1))\n",
    "\n",
    "## 모델 구성\n",
    "fit_holt = HoltWinters(female, gamma = FALSE)\n",
    "fit_fem = holt(female, alpha = fit_holt$alpha, beta = fit_holt$beta, initial = 'simple', h = 12)\n",
    "fit_fem$model\n",
    "\n",
    "## 적합된 모형 예측 그래프 산출\n",
    "plot(fit_fem, main = \"여성 근로자 수 이중지수평활 예측 그래프\", cex.main = 2, lwd = 2)\n",
    "lines(fitted(fit_fem), lty = 2, col = \"darkorange\", lwd = 2)\n",
    "legend(\"topleft\", c(\"real\", \"fitted\", \"forecasting\"),\n",
    "       lty = c(1, 2, 1), lwd = 2, col = c(\"black\", \"darkorange\", \"steelblue\"))\n",
    "\n",
    "## 잔차도 산출 및 잔차 검정\n",
    "plot(resid(fit_fem), type = 'o', pch = 16, xlab = \"t\", ylab = \"residual\", main = \"1-시차 예측오차에 대한 시계열 그림\", cex.main = 2)\n",
    "abline(h = 0, lty = 2)\n",
    "dwtest(lm(resid(fit_fem)~1), alternative = \"two.sided\")"
   ]
  },
  {
   "cell_type": "markdown",
   "id": "2b92231a-67ed-4c54-a5be-cfc2b30fdb50",
   "metadata": {},
   "source": [
    "`-` **(2) `export.txt`**"
   ]
  },
  {
   "cell_type": "code",
   "execution_count": 455,
   "id": "0d208570-bca3-4616-bb41-f1fc0615dce2",
   "metadata": {},
   "outputs": [],
   "source": [
    "z = scan(\"export.txt\")\n",
    "export = ts(z, frequency = 12)\n",
    "\n",
    "## 시계열 그림\n",
    "plot(1:86, export, type = 'l', col = 'darkorange', lwd = 2, xlab = \"\", ylab = \"수출액(억$)\",\n",
    "        main = \"월별 수출액 시계열 그림\", cex.main = 2)\n",
    "abline(v = seq(1, 90, by = 12), lty = 2) ## 계절성 판단\n",
    "legend(\"topleft\", c(\"수출액(억$)\", \"계절성분 간격 (12 month)\"),\n",
    "       lty = c(1, 2), col = c(\"darkorange\", \"black\"), lwd = c(2, 1))\n",
    "\n",
    "## 모델 구성\n",
    "fit_holt = HoltWinters(export, seasonal = \"additive\")\n",
    "fit_exp = hw(export, alpha = fit_holt$alpha, beta = fit_holt$beta, gamma = fit_holt$gamma, initial = 'simple', h = 12)\n",
    "fit_exp$model\n",
    "\n",
    "## 적합된 모형 예측 그래프 산출\n",
    "plot(fit_exp, main = \"여성 근로자 수 이중지수평활 예측 그래프\", cex.main = 2, lwd = 2)\n",
    "lines(fitted(fit_exp), lty = 2, col = \"darkorange\", lwd = 2)\n",
    "legend(\"topleft\", c(\"real\", \"fitted\", \"forecasting\"),\n",
    "       lty = c(1, 2, 1), lwd = 2, col = c(\"black\", \"darkorange\", \"steelblue\"))\n",
    "\n",
    "## 잔차도 산출 및 잔차 검정\n",
    "plot(1:86, resid(fit_exp), type = 'o', pch = 16, xlab = \"t\", ylab = \"residual\", main = \"1-시차 예측오차에 대한 시계열 그림\", cex.main = 2)\n",
    "abline(h = 0, lty = 2)\n",
    "dwtest(lm(resid(fit_exp)~1), alternative = \"two.sided\")"
   ]
  },
  {
   "cell_type": "markdown",
   "id": "d2d5f8ca-efc4-404f-8461-933d4f9fbbae",
   "metadata": {},
   "source": [
    "`-` 추세모형과의 비교"
   ]
  },
  {
   "cell_type": "code",
   "execution_count": 513,
   "id": "835825fc-6ed8-4d17-87d7-eda1c5dcb9f7",
   "metadata": {},
   "outputs": [
    {
     "data": {
      "text/html": [
       "1135.42182593918"
      ],
      "text/latex": [
       "1135.42182593918"
      ],
      "text/markdown": [
       "1135.42182593918"
      ],
      "text/plain": [
       "[1] 1135.422"
      ]
     },
     "metadata": {},
     "output_type": "display_data"
    },
    {
     "data": {
      "text/html": [
       "1371.05731181319"
      ],
      "text/latex": [
       "1371.05731181319"
      ],
      "text/markdown": [
       "1371.05731181319"
      ],
      "text/plain": [
       "[1] 1371.057"
      ]
     },
     "metadata": {},
     "output_type": "display_data"
    }
   ],
   "source": [
    "## SSE : 계절추세모형\n",
    "fit_holt$SSE\n",
    "sum(resid(model_export)^2)"
   ]
  },
  {
   "cell_type": "markdown",
   "id": "ece04124-0a5c-4074-b9bd-ece8d53cb2c6",
   "metadata": {},
   "source": [
    "### 8번 문제"
   ]
  },
  {
   "cell_type": "code",
   "execution_count": 516,
   "id": "346568bc-934d-42c3-88f0-3e93a1ac6d62",
   "metadata": {},
   "outputs": [],
   "source": [
    "dt = read.csv(\"data1.csv\")"
   ]
  },
  {
   "cell_type": "markdown",
   "id": "ecb6b38b-89b2-41c2-9d94-713b8e13479d",
   "metadata": {},
   "source": [
    "`-` 시계열 자료 구성 성분 파악"
   ]
  },
  {
   "cell_type": "code",
   "execution_count": null,
   "id": "cce5b7a7-85c9-47ea-987f-ce33694766d1",
   "metadata": {},
   "outputs": [],
   "source": [
    "## 시계열 그림\n",
    "plot(dt$t, dt$z, type = \"b\", col = 'darkorange', lwd = 2, xlab = \"\", ylab = \"\",\n",
    "     main = \"모의 실험 시계열 그림\", cex.main = 2, pch = 16)\n",
    "abline(v = seq(1, 120, by = 12), lty = 2) ## 계절성 판단"
   ]
  },
  {
   "cell_type": "markdown",
   "id": "896d7c29-4d6a-42fe-a05c-b86231c4187f",
   "metadata": {},
   "source": [
    "* **(1), (2) 코드**"
   ]
  },
  {
   "cell_type": "code",
   "execution_count": null,
   "id": "e0e54502-1449-4667-81aa-bed5f792dd20",
   "metadata": {},
   "outputs": [],
   "source": [
    "## 모형 적합\n",
    "trend_model = lm(z~t, dt)\n",
    "summary(trend_model)\n",
    "\n",
    "## 잔차 그림\n",
    "plot(dt$t, resid(trend_model), type = 'b', pch = 16, xlab = 'time', ylab = 'residual',\n",
    "     main = '1-시차 예측오차에 대한 시계열 그림', cex.main = 2)\n",
    "abline(h = 0, lty = 2)\n",
    "\n",
    "## 잔차 분석\n",
    "dwtest(trend_model, alternative = \"two.sided\")\n",
    "shapiro.test(resid(trend_model))\n",
    "bptest(trend_model)\n",
    "\n",
    "## forecasting\n",
    "new_data = data.frame(\n",
    "    t = 101:110\n",
    ")\n",
    "\n",
    "round(predict(trend_model, new_data), 3)"
   ]
  },
  {
   "cell_type": "markdown",
   "id": "8d693571-c52b-482c-bfca-25743ae54593",
   "metadata": {},
   "source": [
    "* **(3), (4) 코드**"
   ]
  },
  {
   "cell_type": "code",
   "execution_count": null,
   "id": "268a3855-4ced-45e5-a637-eb65e8df467e",
   "metadata": {},
   "outputs": [],
   "source": [
    "## 적합된 모형 예측 그래프 산출\n",
    "plot(fit_data, main = \"여성 근로자 수 이중지수평활 예측 그래프\", cex.main = 2, lwd = 2)\n",
    "lines(fitted(fit_data), lty = 2, col = \"darkorange\", lwd = 2)\n",
    "legend(\"topleft\", c(\"real\", \"fitted\", \"forecasting\"),\n",
    "       lty = c(1, 2, 1), lwd = 2, col = c(\"black\", \"darkorange\", \"steelblue\"))\n",
    "\n",
    "## 모형 적합\n",
    "fit_holt = HoltWinters(dt$z, gamma = FALSE) ## 파라미터 추출\n",
    "fit_data = holt(dt$z, alpha = fit_holt$alpha, beta = fit_holt$beta, initial = 'simple', h = 10)\n",
    "fit_data$model\n",
    "\n",
    "## 잔차도 산출 및 잔차 검정\n",
    "plot(resid(fit_data), type = 'o', pch = 16, xlab = \"t\", ylab = \"residual\",\n",
    "     main = \"1-시차 예측오차에 대한 시계열 그림\", cex.main = 2)\n",
    "abline(h = 0, lty = 2)\n",
    "dwtest(lm(resid(fit_data)~1), alternative = \"two.sided\")\n",
    "\n",
    "## forecasting\n",
    "round(data.frame(predict(fit_data))[, 1], 3)"
   ]
  },
  {
   "cell_type": "markdown",
   "id": "413eb6e0-4e4b-49ad-ac2a-078ffd244bf3",
   "metadata": {},
   "source": [
    "* **(5) 코드**"
   ]
  },
  {
   "cell_type": "code",
   "execution_count": null,
   "id": "4d5de183-123e-44c0-8a1c-1fc50d9faa7d",
   "metadata": {},
   "outputs": [],
   "source": [
    "## data\n",
    "new_dt = read.csv(\"data1_new.csv\")\n",
    "new_dt\n",
    "\n",
    "## MSE\n",
    "sum((new_dt$z - predict(trend_model, new_data))^2)/10 ## MSE 추세 모형\n",
    "sum((new_dt$z - data.frame(predict(fit_data))[,1])^2)/10 ## MSE 이중지수평활\n",
    "\n",
    "## MAE\n",
    "sum(abs(new_dt$z - predict(trend_model, new_data)))/10 ## MAE 추세 모형\n",
    "sum(abs(new_dt$z - data.frame(predict(fit_data))[,1]))/10 ## MAE 이중지수평활\n",
    "\n",
    "## MAPE\n",
    "sum(abs((new_dt$z - predict(trend_model, new_data))/new_dt$z))/10*100 ## MAE 추세 모형\n",
    "sum(abs((new_dt$z - data.frame(predict(fit_data))[,1])/new_dt$z))/10*100 ## MAE 이중지수평활"
   ]
  }
 ],
 "metadata": {
  "kernelspec": {
   "display_name": "R",
   "language": "R",
   "name": "ir"
  },
  "language_info": {
   "codemirror_mode": "r",
   "file_extension": ".r",
   "mimetype": "text/x-r-source",
   "name": "R",
   "pygments_lexer": "r",
   "version": "4.3.3"
  }
 },
 "nbformat": 4,
 "nbformat_minor": 5
}
