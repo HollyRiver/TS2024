{
 "cells": [
  {
   "cell_type": "markdown",
   "id": "ddf2460b-5d18-4463-aa58-716a9ec9e4c3",
   "metadata": {},
   "source": [
    "### Imports & Setting"
   ]
  },
  {
   "cell_type": "code",
   "execution_count": 79,
   "id": "cb2d8370-d7cf-4d46-95a4-a9a912645d5e",
   "metadata": {},
   "outputs": [],
   "source": [
    "## setting\n",
    "options(repr.plot.width = 15, repr.plot.height = 8)\n",
    "setwd(\"~/TS2024/data/Time Series Data/\")"
   ]
  },
  {
   "cell_type": "markdown",
   "id": "519cff9f-0e88-4c08-9083-56c29b4dd143",
   "metadata": {},
   "source": [
    "### 1번 문제"
   ]
  },
  {
   "cell_type": "code",
   "execution_count": null,
   "id": "4c607427-65c6-4814-9c90-c8b21fe3cc9a",
   "metadata": {},
   "outputs": [],
   "source": [
    "##----------(6) acf/pacf plot----------\n",
    "model1 = list(acf = c(0.8, 0.64, 0.521, 0.4096, 0.32768), pacf = c(0.8, 0, 0, 0))\n",
    "model2 = list(acf = c(-0.6820, 0.1967, 0, 0, 0), pacf = c(-0.6820, -0.5018, -0.3518, -0.2006))\n",
    "model3 = list(acf = c(0.7993, 0.4796, 0.2878, 0.1727, 0.1036), pacf = c(0.7993, -0.4411, 0.3023, -0.0893))\n",
    "model4 = list(acf = c(0.7910, 0.6338, 0.3803, 0.2282, 0.1369), pacf = c(0.7910, 0.0388, -0.3403, 0.0593))\n",
    "model5 = list(acf = c(0.7920, 0.4880, 0.1777, -0.0752, -0.2371), pacf = c(0.7920, -0.3736, -0.1786, -0.0892))\n",
    "models = list(model1, model2, model3, model4, model5)\n",
    "\n",
    "## plotting 5 plots\n",
    "for (i in 1:5) {\n",
    "    par(mfrow = c(1,2))\n",
    "    plot(x = 1:5, y = models[[i]]$acf, type = \"n\", ylim = c(-1, 1), main = paste(\"model\", i,\"ACF\"), xlab = \"lag\", ylab = \"ACF\")\n",
    "    abline(h = 0)\n",
    "    segments(x0 = 1:5, y0 = 0, x1 = 1:5, y1 = models[[i]]$acf)\n",
    "\n",
    "    plot(x = 1:4, y = models[[i]]$pacf, type = \"n\", ylim = c(-1, 1), main = paste(\"model\", i,\"PACF\"), xlab = \"lag\", ylab = \"PACF\")\n",
    "    abline(h = 0)\n",
    "    segments(x0 = 1:4, y0 = 0, x1 = 1:4, y1 = models[[i]]$pacf)\n",
    "}"
   ]
  },
  {
   "cell_type": "markdown",
   "id": "8ffb5fe7-1970-44e5-89df-43cdd68dcebd",
   "metadata": {},
   "source": [
    "### 4번 문제"
   ]
  },
  {
   "cell_type": "code",
   "execution_count": null,
   "id": "c3e69abe-a921-4ee2-beb1-6baf68bfa3e1",
   "metadata": {},
   "outputs": [],
   "source": [
    "## data\n",
    "ex7_3 = scan(\"ex7_3.txt\")\n",
    "\n",
    "#---------(1) Zt의 시계열 그림---------\n",
    "ts.plot(ex7_3, ylab = expression(Z[t]), main = \"Time Series Plot\")\n",
    "acf(ex7_3)\n",
    "\n",
    "#---------(2) 1차 차분시계열의 시계열 그림---------\n",
    "diff_z = diff(ex7_3)\n",
    "ts.plot(diff_z, ylab = expression(Z[t]), main = \"1차 차분\")\n",
    "\n",
    "diff14_z = diff(diff_z, 4)\n",
    "ts.plot(diff14_z, ylab = expression(Z[t]), main = \"1차 차분 + 계절주기가 4인 계절차분\")\n",
    "\n",
    "#---------(3) 계절차분만 진행한 시계열 그림---------\n",
    "diff4_z = diff(ex7_3, 4)\n",
    "ts.plot(diff4_z, ylab = expression(Z[t]), main = \"계절주기가 4인 계절차분\")"
   ]
  },
  {
   "cell_type": "markdown",
   "id": "939f2c9a-ed4f-43ba-825c-9543410a9b39",
   "metadata": {},
   "source": [
    "### 5번 문제"
   ]
  },
  {
   "cell_type": "code",
   "execution_count": null,
   "id": "eb837d6d-e330-4bb2-ac33-b6a417d4d3c1",
   "metadata": {},
   "outputs": [],
   "source": [
    "## data\n",
    "ex7_4 = scan(\"ex7_4.txt\")\n",
    "\n",
    "#---------(1) Zt의 시계열 그림---------\n",
    "ts.plot(ex7_4, ylab = expression(Z[t]), main = \"Time Series Plot\")\n",
    "\n",
    "#---------(2) 1차 차분시계열의 시계열 그림--------\n",
    "diff_z = diff(ex7_4)\n",
    "ts.plot(diff_z, ylab = expression(Z[t]), main = \"1차 차분\")\n",
    "\n",
    "#---------(3) 계절차분된 시계열 그림---------\n",
    "diff4_z = diff(ex7_4, 4)\n",
    "ts.plot(diff4_z, ylab = expression(Z[t]), main = \"계절주기가 4인 계절차분\")\n",
    "\n",
    "#---------(4) 계절차분 + 차분---------\n",
    "diff14_z = diff(diff4_z)\n",
    "ts.plot(diff14_z, ylab = expression(Z[t]), main = \"계절주기가 4인 계절차분 + 1차 차분\")"
   ]
  }
 ],
 "metadata": {
  "kernelspec": {
   "display_name": "R",
   "language": "R",
   "name": "ir"
  },
  "language_info": {
   "codemirror_mode": "r",
   "file_extension": ".r",
   "mimetype": "text/x-r-source",
   "name": "R",
   "pygments_lexer": "r",
   "version": "4.3.3"
  }
 },
 "nbformat": 4,
 "nbformat_minor": 5
}
