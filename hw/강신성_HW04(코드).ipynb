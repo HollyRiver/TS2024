{
 "cells": [
  {
   "cell_type": "markdown",
   "id": "ddf2460b-5d18-4463-aa58-716a9ec9e4c3",
   "metadata": {},
   "source": [
    "### Imports & Setting"
   ]
  },
  {
   "cell_type": "code",
   "execution_count": 1,
   "id": "cb2d8370-d7cf-4d46-95a4-a9a912645d5e",
   "metadata": {},
   "outputs": [],
   "source": [
    "## setting\n",
    "options(repr.plot.width = 15, repr.plot.height = 8)\n",
    "setwd(\"~/TS2024/data/Time Series Data/\")"
   ]
  },
  {
   "cell_type": "markdown",
   "id": "519cff9f-0e88-4c08-9083-56c29b4dd143",
   "metadata": {},
   "source": [
    "### 1번 문제"
   ]
  },
  {
   "cell_type": "code",
   "execution_count": null,
   "id": "d8f3e246-f5b5-40f6-b72f-92b38e71cc90",
   "metadata": {},
   "outputs": [],
   "source": [
    "##----------(6) acf/pacf plot----------\n",
    "data1 = list(acf = as.numeric(strsplit(\"-0.48 -0.04 -0.06 0.14 -0.22 0.19 -0.10 -0.02 0.09 -0.03 -0.12 0.09 0.03\", \" \")[[1]]),\n",
    "             pacf = as.numeric(strsplit(\"-0.48 -0.24 -0.21 0.01 -0.20 -0.01 -0.05 -0.15 -0.04 -0.06 -0.04 0.02 0.06\", \" \")[[1]]))\n",
    "data2 = list(acf = as.numeric(strsplit(\"0.59 0.44 0.33 0.23 0.24 0.16 0.05 0.01 -0.03 -0.11 -0.08 -0.07 0.01\", \" \")[[1]]),\n",
    "             pacf = as.numeric(strsplit(\"0.59 0.13 0.04 -0.02 0.12 -0.05 -0.12 -0.03 -0.01 -0.13 0.06 0.04 0.13\", \" \")[[1]]))\n",
    "data3 = list(acf = as.numeric(strsplit(\"-0.44 -0.05 -0.01 -0.03 0.12 -0.15 0.15 -0.04 -0.10 0.09 0.08 -0.07 0.06\", \" \")[[1]]),\n",
    "             pacf = as.numeric(strsplit(\"-0.44 -0.31 -0.25 -0.25 -0.07 -0.21 -0.01 0.02 -0.09 -0.02 0.03 -0.02 0.01\", \" \")[[1]]))\n",
    "data = list(data1, data2, data3)\n",
    "\n",
    "## plotting 3 plots\n",
    "for (i in 1:3) {\n",
    "    par(mfrow = c(1,2))\n",
    "    plot(x = 1:13, y = data[[i]]$acf, type = \"n\", ylim = c(-1, 1), main = paste(\"data\", i,\"ACF\"), xlab = \"lag\", ylab = \"ACF\")\n",
    "    abline(h = 0)\n",
    "    segments(x0 = 1:13, y0 = 0, x1 = 1:13, y1 = data[[i]]$acf)\n",
    "    abline(h = 0.2, lty = 2, col = \"skyblue\", lwd = 2)\n",
    "    abline(h = -0.2, lty = 2, col = \"skyblue\", lwd = 2)\n",
    "\n",
    "    plot(x = 1:13, y = data[[i]]$pacf, type = \"n\", ylim = c(-1, 1), main = paste(\"data\", i,\"PACF\"), xlab = \"lag\", ylab = \"PACF\")\n",
    "    abline(h = 0)\n",
    "    segments(x0 = 1:13, y0 = 0, x1 = 1:13, y1 = data[[i]]$pacf)\n",
    "    abline(h = 0.2, lty = 2, col = \"skyblue\", lwd = 2)\n",
    "    abline(h = -0.2, lty = 2, col = \"skyblue\", lwd = 2)\n",
    "}"
   ]
  },
  {
   "cell_type": "code",
   "execution_count": 31,
   "id": "4c607427-65c6-4814-9c90-c8b21fe3cc9a",
   "metadata": {},
   "outputs": [
    {
     "data": {
      "text/html": [
       "24.75"
      ],
      "text/latex": [
       "24.75"
      ],
      "text/markdown": [
       "24.75"
      ],
      "text/plain": [
       "[1] 24.75"
      ]
     },
     "metadata": {},
     "output_type": "display_data"
    }
   ],
   "source": [
    "24.75"
   ]
  },
  {
   "cell_type": "markdown",
   "id": "8ffb5fe7-1970-44e5-89df-43cdd68dcebd",
   "metadata": {},
   "source": [
    "### 4번 문제"
   ]
  },
  {
   "cell_type": "code",
   "execution_count": null,
   "id": "c3e69abe-a921-4ee2-beb1-6baf68bfa3e1",
   "metadata": {},
   "outputs": [],
   "source": [
    "## data\n",
    "ex7_3 = scan(\"ex7_3.txt\")\n",
    "\n",
    "#---------(1) Zt의 시계열 그림---------\n",
    "ts.plot(ex7_3, ylab = expression(Z[t]), main = \"Time Series Plot\")\n",
    "acf(ex7_3)\n",
    "\n",
    "#---------(2) 1차 차분시계열의 시계열 그림---------\n",
    "diff_z = diff(ex7_3)\n",
    "ts.plot(diff_z, ylab = expression(Z[t]), main = \"1차 차분\")\n",
    "\n",
    "diff14_z = diff(diff_z, 4)\n",
    "ts.plot(diff14_z, ylab = expression(Z[t]), main = \"1차 차분 + 계절주기가 4인 계절차분\")\n",
    "\n",
    "#---------(3) 계절차분만 진행한 시계열 그림---------\n",
    "diff4_z = diff(ex7_3, 4)\n",
    "ts.plot(diff4_z, ylab = expression(Z[t]), main = \"계절주기가 4인 계절차분\")"
   ]
  },
  {
   "cell_type": "markdown",
   "id": "939f2c9a-ed4f-43ba-825c-9543410a9b39",
   "metadata": {},
   "source": [
    "### 5번 문제"
   ]
  },
  {
   "cell_type": "code",
   "execution_count": null,
   "id": "eb837d6d-e330-4bb2-ac33-b6a417d4d3c1",
   "metadata": {},
   "outputs": [],
   "source": [
    "## data\n",
    "ex7_4 = scan(\"ex7_4.txt\")\n",
    "\n",
    "#---------(1) Zt의 시계열 그림---------\n",
    "ts.plot(ex7_4, ylab = expression(Z[t]), main = \"Time Series Plot\")\n",
    "\n",
    "#---------(2) 1차 차분시계열의 시계열 그림--------\n",
    "diff_z = diff(ex7_4)\n",
    "ts.plot(diff_z, ylab = expression(Z[t]), main = \"1차 차분\")\n",
    "\n",
    "#---------(3) 계절차분된 시계열 그림---------\n",
    "diff4_z = diff(ex7_4, 4)\n",
    "ts.plot(diff4_z, ylab = expression(Z[t]), main = \"계절주기가 4인 계절차분\")\n",
    "\n",
    "#---------(4) 계절차분 + 차분---------\n",
    "diff14_z = diff(diff4_z)\n",
    "ts.plot(diff14_z, ylab = expression(Z[t]), main = \"계절주기가 4인 계절차분 + 1차 차분\")"
   ]
  }
 ],
 "metadata": {
  "kernelspec": {
   "display_name": "R",
   "language": "R",
   "name": "ir"
  },
  "language_info": {
   "codemirror_mode": "r",
   "file_extension": ".r",
   "mimetype": "text/x-r-source",
   "name": "R",
   "pygments_lexer": "r",
   "version": "4.3.3"
  }
 },
 "nbformat": 4,
 "nbformat_minor": 5
}
