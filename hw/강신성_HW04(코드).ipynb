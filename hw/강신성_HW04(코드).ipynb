{
 "cells": [
  {
   "cell_type": "markdown",
   "id": "ddf2460b-5d18-4463-aa58-716a9ec9e4c3",
   "metadata": {},
   "source": [
    "### Imports & Setting"
   ]
  },
  {
   "cell_type": "code",
   "execution_count": 76,
   "id": "cb2d8370-d7cf-4d46-95a4-a9a912645d5e",
   "metadata": {},
   "outputs": [],
   "source": [
    "## library imports\n",
    "library(forecast)\n",
    "library(fUnitRoots)\n",
    "library(portes)\n",
    "library(astsa)\n",
    "\n",
    "## setting\n",
    "options(repr.plot.width = 15, repr.plot.height = 8)\n",
    "setwd(\"~/TS2024/data/Time Series Data/\")"
   ]
  },
  {
   "cell_type": "markdown",
   "id": "519cff9f-0e88-4c08-9083-56c29b4dd143",
   "metadata": {},
   "source": [
    "### 1번 문제"
   ]
  },
  {
   "cell_type": "code",
   "execution_count": null,
   "id": "7c988c78-2d4c-4734-a0bb-1f1fb58bb169",
   "metadata": {},
   "outputs": [],
   "source": [
    "##----------(6) acf/pacf plot----------\n",
    "data1 = list(acf = as.numeric(strsplit(\"-0.48 -0.04 -0.06 0.14 -0.22 0.19 -0.10 -0.02 0.09 -0.03 -0.12 0.09 0.03\", \" \")[[1]]),\n",
    "             pacf = as.numeric(strsplit(\"-0.48 -0.24 -0.21 0.01 -0.20 -0.01 -0.05 -0.15 -0.04 -0.06 -0.04 0.02 0.06\", \" \")[[1]]))\n",
    "data2 = list(acf = as.numeric(strsplit(\"0.59 0.44 0.33 0.23 0.24 0.16 0.05 0.01 -0.03 -0.11 -0.08 -0.07 0.01\", \" \")[[1]]),\n",
    "             pacf = as.numeric(strsplit(\"0.59 0.13 0.04 -0.02 0.12 -0.05 -0.12 -0.03 -0.01 -0.13 0.06 0.04 0.13\", \" \")[[1]]))\n",
    "data3 = list(acf = as.numeric(strsplit(\"-0.44 -0.05 -0.01 -0.03 0.12 -0.15 0.15 -0.04 -0.10 0.09 0.08 -0.07 0.06\", \" \")[[1]]),\n",
    "             pacf = as.numeric(strsplit(\"-0.44 -0.31 -0.25 -0.25 -0.07 -0.21 -0.01 0.02 -0.09 -0.02 0.03 -0.02 0.01\", \" \")[[1]]))\n",
    "data = list(data1, data2, data3)\n",
    "\n",
    "for (i in 1:3) {\n",
    "    if (i != 3) {\n",
    "        data[[i]] = append(list(crit = 1.96*(cumsum(c(1, 2*data[[i]][[1]]^2))/100)^0.5), data[[i]])\n",
    "    }\n",
    "\n",
    "    else {\n",
    "        data[[i]] = append(list(crit = 1.96*(cumsum(c(1, 2*data[[i]][[1]]^2))/99)^0.5), data[[i]])\n",
    "    }\n",
    "}\n",
    "\n",
    "## plotting 3 plots\n",
    "for (i in 1:3) {\n",
    "    par(mfrow = c(1,2))\n",
    "    plot(x = 1:13, y = data[[i]]$acf, type = \"n\", ylim = c(-1, 1), main = paste(\"data\", i,\"ACF\"), xlab = \"lag\", ylab = \"ACF\")\n",
    "    abline(h = 0)\n",
    "    segments(x0 = 1:13, y0 = 0, x1 = 1:13, y1 = data[[i]]$acf)\n",
    "    lines(x = 1:13, y = data[[i]]$crit[-14], lty = 2, col = \"skyblue\", lwd = 2)\n",
    "    lines(x = 1:13, y = -data[[i]]$crit[-14], lty = 2, col = \"skyblue\", lwd = 2)\n",
    "\n",
    "    plot(x = 1:13, y = data[[i]]$pacf, type = \"n\", ylim = c(-1, 1), main = paste(\"data\", i,\"PACF\"), xlab = \"lag\", ylab = \"PACF\")\n",
    "    abline(h = 0)\n",
    "    segments(x0 = 1:13, y0 = 0, x1 = 1:13, y1 = data[[i]]$pacf)\n",
    "    abline(h = 0.2, lty = 2, col = \"skyblue\", lwd = 2)\n",
    "    abline(h = -0.2, lty = 2, col = \"skyblue\", lwd = 2)\n",
    "}"
   ]
  },
  {
   "cell_type": "markdown",
   "id": "63a8fc3c-2312-44f4-b318-21ad4959ad3e",
   "metadata": {},
   "source": [
    "### 2번 문제"
   ]
  },
  {
   "cell_type": "code",
   "execution_count": 53,
   "id": "27b963f9-efc9-477e-ad4c-74c5b8628687",
   "metadata": {},
   "outputs": [],
   "source": [
    "## data\n",
    "z1 = scan(\"ex8_2a.txt\")\n",
    "z2 = scan(\"ex8_2b.txt\")\n",
    "\n",
    "##----------ex8_2a.txt data 분석----------\n",
    "tsdisplay(z1, main = \"ex8_2a.txt의 시계열 그림 및 SACF/SPACF\", cex.main = 2)\n",
    "adfTest(z1, lags = 1, type = \"c\") ## 평균 수준이 0이 아님\n",
    "\n",
    "## AR(2) process\n",
    "fit1 = arima(z1, order = c(2,0,0), include.mean = T)\n",
    "lmtest::coeftest(fit1)\n",
    "astsa::sarima(z1, p=2, d=0, q=0)\n",
    "\n",
    "## MA(3) process\n",
    "fit2 = arima(z1, order = c(0,0,3), include.mean = T)\n",
    "lmtest::coeftest(fit2)\n",
    "astsa::sarima(z1, p=0, d=0, q=3)"
   ]
  },
  {
   "cell_type": "code",
   "execution_count": 87,
   "id": "13e1456a-5d1c-4272-9e7a-bdc9675633cc",
   "metadata": {},
   "outputs": [
    {
     "data": {
      "text/plain": [
       "\n",
       "Call:\n",
       "arima(x = z1, order = c(2, 0, 0), include.mean = T)\n",
       "\n",
       "Coefficients:\n",
       "          ar1      ar2  intercept\n",
       "      -0.6599  -0.5003   358.6756\n",
       "s.e.   0.0863   0.0860     4.0929\n",
       "\n",
       "sigma^2 estimated as 7696:  log likelihood = -589.71,  aic = 1187.42"
      ]
     },
     "metadata": {},
     "output_type": "display_data"
    }
   ],
   "source": [
    "fit1"
   ]
  },
  {
   "cell_type": "code",
   "execution_count": 86,
   "id": "502da053-7ed6-42a5-a387-9f8f072c9525",
   "metadata": {},
   "outputs": [
    {
     "data": {
      "text/plain": [
       "\n",
       "Call:\n",
       "arima(x = z1, order = c(0, 0, 3), include.mean = T)\n",
       "\n",
       "Coefficients:\n",
       "          ma1      ma2     ma3  intercept\n",
       "      -0.7472  -0.2072  0.3668   358.5549\n",
       "s.e.   0.0976   0.1295  0.1062     3.5149\n",
       "\n",
       "sigma^2 estimated as 7239:  log likelihood = -586.84,  aic = 1183.68"
      ]
     },
     "metadata": {},
     "output_type": "display_data"
    }
   ],
   "source": [
    "fit2"
   ]
  },
  {
   "cell_type": "code",
   "execution_count": 85,
   "id": "3d3ba4a1-970f-46ef-b503-5233bec9e1fd",
   "metadata": {},
   "outputs": [
    {
     "data": {
      "text/plain": [
       "\n",
       "z test of coefficients:\n",
       "\n",
       "            Estimate Std. Error  z value  Pr(>|z|)    \n",
       "ma1        -0.747242   0.097625  -7.6542 1.945e-14 ***\n",
       "ma2        -0.207181   0.129526  -1.5995 0.1097031    \n",
       "ma3         0.366752   0.106225   3.4526 0.0005552 ***\n",
       "intercept 358.554914   3.514854 102.0113 < 2.2e-16 ***\n",
       "---\n",
       "Signif. codes:  0 ‘***’ 0.001 ‘**’ 0.01 ‘*’ 0.05 ‘.’ 0.1 ‘ ’ 1\n"
      ]
     },
     "metadata": {},
     "output_type": "display_data"
    }
   ],
   "source": [
    "fit2 = arima(z1, order = c(0,0,3), include.mean = T)\n",
    "lmtest::coeftest(fit2)"
   ]
  },
  {
   "cell_type": "markdown",
   "id": "8ffb5fe7-1970-44e5-89df-43cdd68dcebd",
   "metadata": {},
   "source": [
    "### 4번 문제"
   ]
  },
  {
   "cell_type": "code",
   "execution_count": null,
   "id": "c3e69abe-a921-4ee2-beb1-6baf68bfa3e1",
   "metadata": {},
   "outputs": [],
   "source": [
    "## data\n",
    "ex7_3 = scan(\"ex7_3.txt\")\n",
    "\n",
    "#---------(1) Zt의 시계열 그림---------\n",
    "ts.plot(ex7_3, ylab = expression(Z[t]), main = \"Time Series Plot\")\n",
    "acf(ex7_3)\n",
    "\n",
    "#---------(2) 1차 차분시계열의 시계열 그림---------\n",
    "diff_z = diff(ex7_3)\n",
    "ts.plot(diff_z, ylab = expression(Z[t]), main = \"1차 차분\")\n",
    "\n",
    "diff14_z = diff(diff_z, 4)\n",
    "ts.plot(diff14_z, ylab = expression(Z[t]), main = \"1차 차분 + 계절주기가 4인 계절차분\")\n",
    "\n",
    "#---------(3) 계절차분만 진행한 시계열 그림---------\n",
    "diff4_z = diff(ex7_3, 4)\n",
    "ts.plot(diff4_z, ylab = expression(Z[t]), main = \"계절주기가 4인 계절차분\")"
   ]
  },
  {
   "cell_type": "markdown",
   "id": "939f2c9a-ed4f-43ba-825c-9543410a9b39",
   "metadata": {},
   "source": [
    "### 5번 문제"
   ]
  },
  {
   "cell_type": "code",
   "execution_count": null,
   "id": "eb837d6d-e330-4bb2-ac33-b6a417d4d3c1",
   "metadata": {},
   "outputs": [],
   "source": [
    "## data\n",
    "ex7_4 = scan(\"ex7_4.txt\")\n",
    "\n",
    "#---------(1) Zt의 시계열 그림---------\n",
    "ts.plot(ex7_4, ylab = expression(Z[t]), main = \"Time Series Plot\")\n",
    "\n",
    "#---------(2) 1차 차분시계열의 시계열 그림--------\n",
    "diff_z = diff(ex7_4)\n",
    "ts.plot(diff_z, ylab = expression(Z[t]), main = \"1차 차분\")\n",
    "\n",
    "#---------(3) 계절차분된 시계열 그림---------\n",
    "diff4_z = diff(ex7_4, 4)\n",
    "ts.plot(diff4_z, ylab = expression(Z[t]), main = \"계절주기가 4인 계절차분\")\n",
    "\n",
    "#---------(4) 계절차분 + 차분---------\n",
    "diff14_z = diff(diff4_z)\n",
    "ts.plot(diff14_z, ylab = expression(Z[t]), main = \"계절주기가 4인 계절차분 + 1차 차분\")"
   ]
  }
 ],
 "metadata": {
  "kernelspec": {
   "display_name": "R",
   "language": "R",
   "name": "ir"
  },
  "language_info": {
   "codemirror_mode": "r",
   "file_extension": ".r",
   "mimetype": "text/x-r-source",
   "name": "R",
   "pygments_lexer": "r",
   "version": "4.3.3"
  }
 },
 "nbformat": 4,
 "nbformat_minor": 5
}
