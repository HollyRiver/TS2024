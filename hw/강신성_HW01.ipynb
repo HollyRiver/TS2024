{
 "cells": [
  {
   "cell_type": "markdown",
   "id": "3249ddcc-549a-40fe-a6b1-95e80a1deda3",
   "metadata": {},
   "source": [
    "## Time Series Analysis : HW01\n",
    "\n",
    "202014107 통계학과 강신성"
   ]
  },
  {
   "cell_type": "markdown",
   "id": "b05d245b-ab8b-466a-b187-1dd314674260",
   "metadata": {
    "jp-MarkdownHeadingCollapsed": true
   },
   "source": [
    "### 1번 문제 : 경제 서적 일별 판매액"
   ]
  },
  {
   "cell_type": "markdown",
   "id": "602b23e2-30dc-47ca-b3ea-d5b5f8298b07",
   "metadata": {},
   "source": [
    "#### (1) 상수평균모형을 적합하여라"
   ]
  },
  {
   "cell_type": "markdown",
   "id": "ce5b0dc0-9c35-4cfe-a469-abc53081dcea",
   "metadata": {},
   "source": [
    "상수평균모형 : $Z_t = \\beta_0 + \\epsilon_t, ~ t = 1, 2, \\cdots, 10$\n",
    "\n",
    "$\\hat\\beta_0 = \\frac{1}{10}\\underset{t = 1}{\\overset{10}{\\sum}} Z_t = 48.3$\n",
    "\n",
    "$\\therefore$ 적합된 모형 : $\\hat Z_{10}(l) = 48.3$"
   ]
  },
  {
   "cell_type": "markdown",
   "id": "17748563-04a3-4e4c-80af-7d7177d76ec9",
   "metadata": {},
   "source": [
    "#### (2) 미래값 $Z_{10+l}$에 대한 예측값 $\\hat Z_{10}(l)$을 구하시오. ($l = 1, 2, 3, 4, 5$)"
   ]
  },
  {
   "cell_type": "markdown",
   "id": "b98c9fdf-2b7e-440f-8e69-545d862abea5",
   "metadata": {},
   "source": [
    "상수평균모형이므로 예측값은 상수이다. 즉, $\\hat Z_{10}(1) = \\hat Z_{10}(2) = \\cdots = \\hat Z_{10}(5) = 48.3$"
   ]
  },
  {
   "cell_type": "markdown",
   "id": "33a96681-7aa6-4ba3-b275-6db9f6928b09",
   "metadata": {},
   "source": [
    "#### (3) 미래값 $Z_{10+l}, ~ l = 1, 2, 3, 4, 5$에 대한 $95\\%$ 예측구간을 구하고, 예측값 및 예측구간의 하한값과 상한값을 관측값 $Z_t$의 시계열과 함께 표시하여라."
   ]
  },
  {
   "cell_type": "markdown",
   "id": "d73bbe71-f882-4925-9a21-7f36d7724175",
   "metadata": {},
   "source": [
    "$Z_{10+l}$의 $95\\%$ 예측구간의 수식은 $\\bar Z \\pm t_{0.025}(9) \\times \\sqrt{(1+\\frac{1}{10})s^2}$이고,\n",
    "\n",
    "$s^2 = \\frac19 \\underset{t=1}{\\overset{10}{\\sum}} e_t^2 = \\frac19\\{(52-48.3)^2 + \\cdots + (53 - 48.3)^2\\} = 14.455, ~ t_{0.025}(9) = 2.262$\n",
    "\n",
    "$\\therefore \\bar Z \\pm t_{0.025}(9) \\times \\sqrt{(1+\\frac{1}{10})s^2} = 48.3 \\pm 2.262 \\times \\sqrt{15.901} = 48.3 \\pm 9.02 = (39.28, 57.32)$"
   ]
  },
  {
   "cell_type": "markdown",
   "id": "3625d455-ca6f-437c-9b7d-6b8f4b11fd6e",
   "metadata": {},
   "source": [
    "이를, $l = 1, 2, 3, 4, 5$에 대하여 정리하면 아래와 같다."
   ]
  },
  {
   "cell_type": "markdown",
   "id": "f66ac6f1-e968-48db-8fd0-95dd8e5ba657",
   "metadata": {},
   "source": [
    "|$l$|1|2|3|4|5|\n",
    "|:-:|:-:|:-:|:-:|:-:|:-:|\n",
    "|예측값 $\\hat Z_{10}(l)$|48.3|48.3|48.3|48.3|48.3|\n",
    "|$95\\%$ 하한값|39.28|39.28|39.28|39.28|39.28|\n",
    "|$95\\%$ 상한값|57.32|57.32|57.32|57.32|57.32|\n",
    "|$95\\%$ 예측구간|(39.28, 57.32)|(39.28, 57.32)|(39.28, 57.32)|(39.28, 57.32)|(39.28, 57.32)|\n",
    "\n",
    "상수평균모형이기 때문에, 예측값은 상수이고, 신뢰구간 또한 동일하다."
   ]
  },
  {
   "cell_type": "markdown",
   "id": "2e3f9351-83b9-4249-99d4-68544292e04d",
   "metadata": {
    "jp-MarkdownHeadingCollapsed": true
   },
   "source": [
    "### 2번 문제 : 편의점 주별 매출액"
   ]
  },
  {
   "cell_type": "markdown",
   "id": "b550f382-baaa-4fe8-943d-430e432e1855",
   "metadata": {},
   "source": [
    "#### (1) 선형추세모형을 쓰시오"
   ]
  },
  {
   "cell_type": "markdown",
   "id": "6ab2ec92-8a83-43f6-9f1e-80c45ebe63eb",
   "metadata": {},
   "source": [
    "선형추세모형 : $Z_t = \\beta_0 + \\beta_1 t + \\epsilon_t, ~ t = 1, 2, \\cdots, 15$"
   ]
  },
  {
   "cell_type": "markdown",
   "id": "7e75df1c-73bb-4094-b651-325c9b577ed3",
   "metadata": {},
   "source": [
    "#### (2) 최소제곱법에 의하여 구한 $\\beta_0, \\beta_1$의 추정량이 각각 다음과 같아짐을 보여라."
   ]
  },
  {
   "cell_type": "markdown",
   "id": "c8b72317-6dcc-424c-a22a-0e334b46626d",
   "metadata": {},
   "source": [
    "먼저, $\\beta_0, ~ \\beta_1$을 설명변수 $t$, 반응변수 $Z$에 대한 최소제곱추정량이라고 하면,\n",
    "\n",
    "$$\\begin{align} \\hat \\beta_0 & = \\bar Z - \\hat \\beta_1 \\bar t\\\\\n",
    "\\hat \\beta_1 & = \\frac{\\underset{t=1}{\\overset{n}{\\sum}}(t - \\bar t)(Z_t - \\bar Z)}{\\underset{t=1}{\\overset{n}{\\sum}}(t - \\bar t)^2} \\\\\n",
    "\\bar t & = \\frac{n(n+1)}{2}ㆍ\\frac1n = \\frac{n+1}{2} \\\\\n",
    "\\end{align}$$\n",
    "\n",
    "이다. $\\beta_1, ~ \\beta_0$ 순서대로 수식을 써보면 아래와 같다."
   ]
  },
  {
   "cell_type": "markdown",
   "id": "b419c9ea-b362-438b-9c0a-22a29b4b699d",
   "metadata": {},
   "source": [
    "* $\\beta_1$\n",
    "\n",
    "$$\\begin{align} \\hat \\beta_1 & = \\frac{\\underset{t=1}{\\overset{n}{\\sum}}(t - \\bar t)(Z_t - \\bar Z)}{\\underset{t=1}{\\overset{n}{\\sum}}(t - \\bar t)^2} \\\\\n",
    "& = \\frac{\\underset{t=1}{\\overset{n}{\\sum}}t(Z_t - \\bar Z) - \\bar t\\underset{t=1}{\\overset{n}{\\sum}}(Z_t - \\bar Z)}{\\underset{t=1}{\\overset{n}{\\sum}}t(t - \\bar t) - \\bar t\\underset{t=1}{\\overset{n}{\\sum}}(t - \\bar t)} = \\frac{\\underset{t=1}{\\overset{n}{\\sum}}t(Z_t - \\bar Z)}{\\underset{t=1}{\\overset{n}{\\sum}}t(t - \\bar t)} \\\\\n",
    "& = \\frac{\\underset{t=1}{\\overset{n}{\\sum}}t Z_t - \\bar Z \\underset{t=1}{\\overset{n}{\\sum}}t}{\\Big(\\underset{t=1}{\\overset{n}{\\sum}}t^2\\Big) - n \\bar t^2} \\\\\n",
    "& = \\frac{\\underset{t=1}{\\overset{n}{\\sum}}t Z_t - \\frac{n(n+1)}{2}ㆍ\\frac1n \\underset{t=1}{\\overset{n}{\\sum}}Z_t}{\\frac{n(n+1)(2n+1)}{6} - \\frac{n(n+1)^2}{4}} = \\frac{\\underset{t=1}{\\overset{n}{\\sum}}t Z_t - \\frac{n+1}{2} \\underset{t=1}{\\overset{n}{\\sum}}Z_t}{\\frac{2n(n+1)(2n+1) - 3n(n+1)^2}{12}}\\\\\n",
    "& = \\frac{\\underset{t=1}{\\overset{n}{\\sum}}t Z_t - \\frac{n+1}{2} \\underset{t=1}{\\overset{n}{\\sum}}Z_t}{\\frac{n(n+1)\\{2(2n+1) - 3(n+1)\\}}{12}} = \\frac{\\underset{t=1}{\\overset{n}{\\sum}}t Z_t - \\frac{n+1}{2} \\underset{t=1}{\\overset{n}{\\sum}}Z_t}{\\frac{n(n+1)(n-1)}{12}} \\\\\n",
    "& = \\frac{12}{n(n+1)(n-1)}\\underset{t=1}{\\overset{n}{\\sum}}t Z_t - \\frac{12}{n(n+1)(n-1)}ㆍ\\frac{n+1}{2} \\underset{t=1}{\\overset{n}{\\sum}}Z_t \\\\\n",
    "& = \\frac{12}{n(n^2 - 1)}\\underset{t=1}{\\overset{n}{\\sum}}t Z_t - \\frac{6}{n(n-1)} \\underset{t=1}{\\overset{n}{\\sum}}Z_t\n",
    "\\end{align}$$"
   ]
  },
  {
   "cell_type": "markdown",
   "id": "b0c290ec-1044-4fa3-a9df-2b410a2afdaf",
   "metadata": {},
   "source": [
    "$\\beta_1$의 추정량을 확인하였으므로, 같은 방법으로 $\\beta_0$에 대입하면,"
   ]
  },
  {
   "cell_type": "markdown",
   "id": "08073b3a-cf26-4eb1-bb0b-fc517963c214",
   "metadata": {},
   "source": [
    "* $\\beta_0$\n",
    "\n",
    "$$\\begin{align} \\hat \\beta_0 & = \\bar Z - \\hat \\beta_1 \\bar t \\\\\n",
    "& = \\frac1n\\underset{t=1}{\\overset{n}{\\sum}}Z_t - \\Big(\\frac{12}{n(n^2 - 1)}\\underset{t=1}{\\overset{n}{\\sum}}t Z_t - \\frac{6}{n(n-1)} \\underset{t=1}{\\overset{n}{\\sum}}Z_t\\Big) \\frac{n+1}{2} \\\\\n",
    "& = \\frac1n\\underset{t=1}{\\overset{n}{\\sum}}Z_t - \\frac{6}{n(n - 1)}\\underset{t=1}{\\overset{n}{\\sum}}t Z_t + \\frac{3(n+1)}{n(n-1)} \\underset{t=1}{\\overset{n}{\\sum}}Z_t \\\\\n",
    "& = \\frac{(n-1) + 3(n+1)}{n(n-1)}\\underset{t=1}{\\overset{n}{\\sum}}Z_t - \\frac{6}{n(n - 1)}\\underset{t=1}{\\overset{n}{\\sum}}t Z_t \\\\\n",
    "& = \\frac{2(2n+1)}{n(n-1)}\\underset{t=1}{\\overset{n}{\\sum}}Z_t - \\frac{6}{n(n - 1)}\\underset{t=1}{\\overset{n}{\\sum}}t Z_t\n",
    "\\end{align}$$"
   ]
  },
  {
   "cell_type": "markdown",
   "id": "72077390-0e50-4a9e-bd1e-cf57ce92492a",
   "metadata": {},
   "source": [
    "즉, 최소제곱법에 의한 추정량이 주어진 수식과 동일함을 알 수 있다."
   ]
  },
  {
   "cell_type": "markdown",
   "id": "8d72011e-5fb2-4745-b664-2efce1a4e162",
   "metadata": {},
   "source": [
    "#### (3) 선형추세모형을 적합하시오."
   ]
  },
  {
   "cell_type": "markdown",
   "id": "8acb4232-bc08-42a9-88b7-ab4388c65d7a",
   "metadata": {},
   "source": [
    "$$\\begin{align} \\hat \\beta_1 & = \\frac{12}{15(15^2 - 1)}\\underset{t=1}{\\overset{15}{\\sum}}t Z_t - \\frac{6}{15(15-1)} \\underset{t=1}{\\overset{15}{\\sum}}Z_t \\\\\n",
    "& = \\frac{12}{3360}\\underset{t=1}{\\overset{15}{\\sum}}t Z_t - \\frac{6}{210} \\underset{t=1}{\\overset{15}{\\sum}}Z_t \\\\\n",
    "& \\underset{t=1}{\\overset{15}{\\sum}}Z_t = 4753, ~ \\underset{t=1}{\\overset{15}{\\sum}}tZ_t = 38692 \\\\\n",
    "\\Rightarrow \\hat \\beta_1 & = 2.3857 \\\\ \\\\\n",
    "\\hat \\beta_0 & = \\bar Z - \\hat \\beta_1 \\bar t = \\frac{4753}{15} - 2.3857 \\times 8 \\\\\n",
    "& = 297.781 \\\\\n",
    "\\therefore ~ & \\text{적합된 선형추세모형} : \\hat Z_{15}(l) = 297.781 + 2.3857 (15 + l)\n",
    "\\end{align}$$"
   ]
  },
  {
   "cell_type": "markdown",
   "id": "fbeb4a35-9e8c-4e66-be21-8e3ce58bc82e",
   "metadata": {},
   "source": [
    "#### (4) 미래값 $Z_{15 + l}$에 대한 예측값 $\\hat Z_{15}(l)$을 구하시오. ($l = 1, 2, 3, 4, 5$)"
   ]
  },
  {
   "cell_type": "markdown",
   "id": "53724e22-6a00-4612-941e-709db8ab224d",
   "metadata": {},
   "source": [
    "$$\\begin{align}\\hat Z_{15}(1) = 297.781 + 2.3857 \\times 16 = 335.95 \\\\\n",
    "\\hat Z_{15}(2) = 297.781 + 2.3857 \\times 17 = 338.34 \\\\\n",
    "\\hat Z_{15}(3) = 297.781 + 2.3857 \\times 18 = 340.72 \\\\\n",
    "\\hat Z_{15}(4) = 297.781 + 2.3857 \\times 19 = 343.11 \\\\\n",
    "\\hat Z_{15}(5) = 297.781 + 2.3857 \\times 20 = 345.50 \\\\\n",
    "\\end{align}$$"
   ]
  },
  {
   "cell_type": "markdown",
   "id": "7924a4c6-3123-4c3a-9b87-1379661fc51e",
   "metadata": {},
   "source": [
    "### 3번 문제 : 시계열 시뮬레이션"
   ]
  },
  {
   "cell_type": "markdown",
   "id": "80545b32-cac6-492c-a73b-6188cb51b3c3",
   "metadata": {},
   "source": [
    "#### (1) $Z_t = 100 + \\epsilon_t, ~ \\epsilon_t \\overset{i.i.d}{\\sim} N(0, 1)$"
   ]
  },
  {
   "cell_type": "markdown",
   "id": "9f1d1a10-424d-4921-b655-3b91c22b4106",
   "metadata": {},
   "source": [
    "#### (2) $Z_t = 500 + \\epsilon_t, ~ \\epsilon_t \\overset{i.i.d}{\\sim} N(0, 1)$"
   ]
  },
  {
   "cell_type": "markdown",
   "id": "39b13418-496e-46d2-a383-8582ce644278",
   "metadata": {},
   "source": [
    "#### (3) $Z_t = 100 + \\epsilon_t, ~ \\epsilon_t \\overset{i.i.d}{\\sim} N(0, 100)$"
   ]
  },
  {
   "cell_type": "markdown",
   "id": "a118896c-1e79-4db2-9efa-08a3d9281ec0",
   "metadata": {},
   "source": [
    "#### (4) $Z_t = 100 + t\\epsilon_t, ~ \\epsilon_t \\overset{i.i.d}{\\sim} N(0, 1)$"
   ]
  },
  {
   "cell_type": "code",
   "execution_count": null,
   "id": "e023b981-4b0a-48b1-ab93-6c6acf1e2592",
   "metadata": {},
   "outputs": [],
   "source": []
  }
 ],
 "metadata": {
  "kernelspec": {
   "display_name": "R",
   "language": "R",
   "name": "ir"
  },
  "language_info": {
   "codemirror_mode": "r",
   "file_extension": ".r",
   "mimetype": "text/x-r-source",
   "name": "R",
   "pygments_lexer": "r",
   "version": "4.3.3"
  }
 },
 "nbformat": 4,
 "nbformat_minor": 5
}
